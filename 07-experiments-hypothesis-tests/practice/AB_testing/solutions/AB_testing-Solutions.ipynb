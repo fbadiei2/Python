{
 "cells": [
  {
   "cell_type": "markdown",
   "metadata": {},
   "source": [
    "<img src=\"http://imgur.com/1ZcRyrc.png\" style=\"float: left; margin: 20px; height: 55px\">\n",
    "\n",
    "# Challenge: A/B Testing Hypothesis Tests\n",
    "\n",
    "---"
   ]
  },
  {
   "cell_type": "markdown",
   "metadata": {},
   "source": [
    "### Scenario\n",
    "\n",
    "You are a data science team working for a web-based company and you are planning to roll out a new website design. One of two competing designs were presented to random samples of users, and their ultimate purchase total was recorded (if any).\n",
    "\n",
    "Your task is to determine which of the two designs yields higher total purchases and if the result is statistically significant."
   ]
  },
  {
   "cell_type": "code",
   "execution_count": 1,
   "metadata": {
    "ExecuteTime": {
     "end_time": "2020-10-07T22:32:04.847588Z",
     "start_time": "2020-10-07T22:32:00.802859Z"
    }
   },
   "outputs": [],
   "source": [
    "from matplotlib import pyplot as plt\n",
    "import numpy as np\n",
    "import pandas as pd\n",
    "from scipy import stats\n",
    "import seaborn as sns\n",
    "\n",
    "%matplotlib inline\n",
    "np.random.seed(42)"
   ]
  },
  {
   "cell_type": "code",
   "execution_count": 2,
   "metadata": {
    "ExecuteTime": {
     "end_time": "2020-10-07T22:32:04.901724Z",
     "start_time": "2020-10-07T22:32:04.852474Z"
    }
   },
   "outputs": [
    {
     "data": {
      "text/html": [
       "<div>\n",
       "<style scoped>\n",
       "    .dataframe tbody tr th:only-of-type {\n",
       "        vertical-align: middle;\n",
       "    }\n",
       "\n",
       "    .dataframe tbody tr th {\n",
       "        vertical-align: top;\n",
       "    }\n",
       "\n",
       "    .dataframe thead th {\n",
       "        text-align: right;\n",
       "    }\n",
       "</style>\n",
       "<table border=\"1\" class=\"dataframe\">\n",
       "  <thead>\n",
       "    <tr style=\"text-align: right;\">\n",
       "      <th></th>\n",
       "      <th>A</th>\n",
       "      <th>B</th>\n",
       "    </tr>\n",
       "  </thead>\n",
       "  <tbody>\n",
       "    <tr>\n",
       "      <th>0</th>\n",
       "      <td>14.685473</td>\n",
       "      <td>25.666710</td>\n",
       "    </tr>\n",
       "    <tr>\n",
       "      <th>1</th>\n",
       "      <td>20.152146</td>\n",
       "      <td>0.000000</td>\n",
       "    </tr>\n",
       "    <tr>\n",
       "      <th>2</th>\n",
       "      <td>14.274252</td>\n",
       "      <td>18.370134</td>\n",
       "    </tr>\n",
       "    <tr>\n",
       "      <th>3</th>\n",
       "      <td>12.122102</td>\n",
       "      <td>26.632519</td>\n",
       "    </tr>\n",
       "    <tr>\n",
       "      <th>4</th>\n",
       "      <td>18.228489</td>\n",
       "      <td>25.862179</td>\n",
       "    </tr>\n",
       "  </tbody>\n",
       "</table>\n",
       "</div>"
      ],
      "text/plain": [
       "           A          B\n",
       "0  14.685473  25.666710\n",
       "1  20.152146   0.000000\n",
       "2  14.274252  18.370134\n",
       "3  12.122102  26.632519\n",
       "4  18.228489  25.862179"
      ]
     },
     "execution_count": 2,
     "metadata": {},
     "output_type": "execute_result"
    }
   ],
   "source": [
    "## generate some data and randomize\n",
    "\n",
    "# some people bought nothing, the others bought \n",
    "# with some distribution\n",
    "data1 = [0] * 50\n",
    "data1.extend(np.random.normal(14, 4, 150))\n",
    "np.random.shuffle(data1)\n",
    "\n",
    "# the second design hooked less people, \n",
    "# but those that were hooked bought more stuff\n",
    "data2 = [0] * 100\n",
    "data2.extend(np.random.normal(20, 5, 100))\n",
    "np.random.shuffle(data2)\n",
    "\n",
    "# make a DataFrame\n",
    "df = pd.DataFrame()\n",
    "df[\"A\"] = data1\n",
    "df[\"B\"] = data2\n",
    "\n",
    "df.head()"
   ]
  },
  {
   "cell_type": "markdown",
   "metadata": {},
   "source": [
    "#### Plot out the distributions of group A and group B.\n",
    "\n",
    "- Plot a histogram or other graph of ONLY the group A column, and ONLY the group B column."
   ]
  },
  {
   "cell_type": "code",
   "execution_count": 3,
   "metadata": {
    "ExecuteTime": {
     "end_time": "2020-10-07T22:32:05.319052Z",
     "start_time": "2020-10-07T22:32:04.911183Z"
    }
   },
   "outputs": [
    {
     "data": {
      "text/plain": [
       "Text(0.5, 1.0, 'Group A')"
      ]
     },
     "execution_count": 3,
     "metadata": {},
     "output_type": "execute_result"
    },
    {
     "data": {
      "image/png": "[encoded data removed]",
      "text/plain": [
       "<Figure size 432x288 with 1 Axes>"
      ]
     },
     "metadata": {
      "needs_background": "light"
     },
     "output_type": "display_data"
    }
   ],
   "source": [
    "# let's plot the data for group A first\n",
    "plt.hist(df[\"A\"], bins='scott',  color=['darkblue'])\n",
    "plt.ylabel(\"A counts\")\n",
    "plt.xlabel(\"Total Purchase\");\n",
    "plt.title(\"Group A\")"
   ]
  },
  {
   "cell_type": "code",
   "execution_count": 4,
   "metadata": {
    "ExecuteTime": {
     "end_time": "2020-10-07T22:32:05.760917Z",
     "start_time": "2020-10-07T22:32:05.435503Z"
    }
   },
   "outputs": [
    {
     "data": {
      "text/plain": [
       "Text(0.5, 1.0, 'Group A')"
      ]
     },
     "execution_count": 4,
     "metadata": {},
     "output_type": "execute_result"
    },
    {
     "data": {
      "image/png": "[encoded data removed]",
      "text/plain": [
       "<Figure size 432x288 with 1 Axes>"
      ]
     },
     "metadata": {
      "needs_background": "light"
     },
     "output_type": "display_data"
    }
   ],
   "source": [
    "# Create a density plot for group A\n",
    "df['A'].plot(kind='density');\n",
    "plt.ylabel(\"A counts\")\n",
    "plt.xlabel(\"Total Purchase\");\n",
    "plt.title(\"Group A\")"
   ]
  },
  {
   "cell_type": "code",
   "execution_count": 5,
   "metadata": {
    "ExecuteTime": {
     "end_time": "2020-10-07T22:32:06.288469Z",
     "start_time": "2020-10-07T22:32:05.942934Z"
    }
   },
   "outputs": [
    {
     "data": {
      "text/plain": [
       "Text(0.5, 1.0, 'Group B')"
      ]
     },
     "execution_count": 5,
     "metadata": {},
     "output_type": "execute_result"
    },
    {
     "data": {
      "image/png": "[encoded data removed]",
      "text/plain": [
       "<Figure size 432x288 with 1 Axes>"
      ]
     },
     "metadata": {
      "needs_background": "light"
     },
     "output_type": "display_data"
    }
   ],
   "source": [
    "# make the same plot for data set B\n",
    "plt.hist(df[\"B\"], bins='scott',  color=['orange'])\n",
    "plt.ylabel(\"B counts\")\n",
    "plt.xlabel(\"Total Purchase\");\n",
    "plt.title(\"Group B\")"
   ]
  },
  {
   "cell_type": "code",
   "execution_count": 6,
   "metadata": {
    "ExecuteTime": {
     "end_time": "2020-10-07T22:32:07.000218Z",
     "start_time": "2020-10-07T22:32:06.645709Z"
    }
   },
   "outputs": [
    {
     "data": {
      "text/plain": [
       "Text(0.5, 1.0, 'Group B')"
      ]
     },
     "execution_count": 6,
     "metadata": {},
     "output_type": "execute_result"
    },
    {
     "data": {
      "image/png": "[encoded data removed]",
      "text/plain": [
       "<Figure size 432x288 with 1 Axes>"
      ]
     },
     "metadata": {
      "needs_background": "light"
     },
     "output_type": "display_data"
    }
   ],
   "source": [
    "# Create a density plot for group B\n",
    "df['B'].plot(kind='density');\n",
    "plt.ylabel(\"B counts\")\n",
    "plt.xlabel(\"Total Purchase\");\n",
    "plt.title(\"Group B\")"
   ]
  },
  {
   "cell_type": "markdown",
   "metadata": {},
   "source": [
    "#### Make a box plot of the two groups"
   ]
  },
  {
   "cell_type": "code",
   "execution_count": 7,
   "metadata": {
    "ExecuteTime": {
     "end_time": "2020-10-07T22:32:08.157075Z",
     "start_time": "2020-10-07T22:32:07.952430Z"
    }
   },
   "outputs": [
    {
     "data": {
      "text/plain": [
       "Text(0.5, 1.0, 'Box Plots - Group A & B')"
      ]
     },
     "execution_count": 7,
     "metadata": {},
     "output_type": "execute_result"
    },
    {
     "data": {
      "image/png": "[encoded data removed]",
      "text/plain": [
       "<Figure size 432x288 with 1 Axes>"
      ]
     },
     "metadata": {
      "needs_background": "light"
     },
     "output_type": "display_data"
    }
   ],
   "source": [
    "df.plot.box()\n",
    "plt.ylabel(\"Total Purchase\");\n",
    "plt.title('Box Plots - Group A & B')"
   ]
  },
  {
   "cell_type": "markdown",
   "metadata": {},
   "source": [
    "#### Using seaborn - plot the distributions of the graphs together"
   ]
  },
  {
   "cell_type": "code",
   "execution_count": 10,
   "metadata": {
    "ExecuteTime": {
     "end_time": "2020-10-07T22:33:24.494062Z",
     "start_time": "2020-10-07T22:33:23.990090Z"
    }
   },
   "outputs": [
    {
     "data": {
      "image/png": "[encoded data removed]",
      "text/plain": [
       "<Figure size 432x288 with 1 Axes>"
      ]
     },
     "metadata": {
      "needs_background": "light"
     },
     "output_type": "display_data"
    }
   ],
   "source": [
    "#Put both graphs in this box and seaborne will stack them\n",
    "sns.distplot(df['A']);\n",
    "sns.distplot(df['B']);\n",
    "plt.ylabel(\"Counts\");\n",
    "plt.xlabel(\"Total Purchase by Group\");\n",
    "plt.title('Distribution Plots - Group A & B');"
   ]
  },
  {
   "cell_type": "markdown",
   "metadata": {},
   "source": [
    "#### Are our data sets (approximately) normal? \n"
   ]
  },
  {
   "cell_type": "markdown",
   "metadata": {
    "ExecuteTime": {
     "end_time": "2020-10-07T05:38:11.720717Z",
     "start_time": "2020-10-07T05:38:11.709033Z"
    }
   },
   "source": [
    "###### ANSWER: No\n"
   ]
  },
  {
   "cell_type": "code",
   "execution_count": 11,
   "metadata": {
    "ExecuteTime": {
     "end_time": "2020-10-07T22:33:40.257046Z",
     "start_time": "2020-10-07T22:33:39.948004Z"
    }
   },
   "outputs": [
    {
     "data": {
      "text/plain": [
       "<matplotlib.axes._subplots.AxesSubplot at 0x7fa64bc19198>"
      ]
     },
     "execution_count": 11,
     "metadata": {},
     "output_type": "execute_result"
    },
    {
     "data": {
      "image/png": "[encoded data removed]",
      "text/plain": [
       "<Figure size 432x288 with 1 Axes>"
      ]
     },
     "metadata": {
      "needs_background": "light"
     },
     "output_type": "display_data"
    }
   ],
   "source": [
    "sns.distplot(df['A']-df['B']);\n"
   ]
  },
  {
   "cell_type": "markdown",
   "metadata": {},
   "source": [
    "<a id=\"statistical-tests\"></a>\n",
    "### Statistical Tests\n",
    "\n",
    "There are a few good statistical tests for A/B testing:\n",
    "* [ANOVA](https://en.wikipedia.org/wiki/Analysis_of_variance)\n",
    "* [Welch's t-test](https://en.wikipedia.org/wiki/Welch's_t-test)\n",
    "* [Mann-Whitney test](https://en.wikipedia.org/wiki/Mann%E2%80%93Whitney_U_test)\n",
    "\n",
    "**Each test makes various assumptions:**\n",
    "* ANOVA assumes the residuals are normally distributed and data have equal variances.\n",
    "* The Welch t-test assumes normal distributions but not necessarily equal variances and more effectively accounts for small sample sizes.\n",
    "* The Mann-Whitney test assumes nothing about the distributions but requires at least 20 data points in each set, producing a weaker p value.\n",
    "\n",
    "Typically you need to choose the most appropriate test. Tests that make more assumptions are more discriminating (producing stronger p values) but can be misleading with data sets that don't satisfy the assumptions."
   ]
  },
  {
   "cell_type": "markdown",
   "metadata": {},
   "source": [
    "In statistics, **one-way analysis of variance** (abbreviated one-way **ANOVA**) is a technique used to compare the means of three or more samples (using the **F distribution**). "
   ]
  },
  {
   "cell_type": "markdown",
   "metadata": {},
   "source": [
    "The **ANOVA** tests the *null hypothesis* (the default position that there is no relationship) that samples in two or more groups are drawn from populations with the same mean values. \n",
    "- *One-way* ANOVA: tests the difference in population means based on one characteristic or factor.\n",
    "- *Two-way* ANOVA: tests comparisons between populations based on multiple characteristics.\n",
    "> - When there are only two means to compare, we use the **t-test**.\n",
    "> - When testing for differences among at least three groups, the **ANOVA** is used. "
   ]
  },
  {
   "cell_type": "markdown",
   "metadata": {},
   "source": [
    "#### Which test is most appropriate for our data?"
   ]
  },
  {
   "cell_type": "markdown",
   "metadata": {
    "ExecuteTime": {
     "end_time": "2020-10-07T05:38:47.007149Z",
     "start_time": "2020-10-07T05:38:47.000050Z"
    }
   },
   "source": [
    "###### Answer:\n",
    "Mann-Whitney - due to lack of normal distribution"
   ]
  },
  {
   "cell_type": "markdown",
   "metadata": {},
   "source": [
    "#### Use the Mann-Whitney test on our data.\n",
    "\n",
    "- Look up the function in SciPy [here](https://docs.scipy.org/doc/scipy/reference/generated/scipy.stats.mannwhitneyu.html).\n",
    "- Statistic: Float the Mann-Whitney U statistic — equal to min(U for x, U for y) if alternative is equal to none (deprecated; exists for backward compatibility) — and U for Y otherwise.\n",
    "- P value: Float p value assuming an asymptotic normal distribution — one sided or two sided, depending on the choice of alternative."
   ]
  },
  {
   "cell_type": "code",
   "execution_count": null,
   "metadata": {
    "ExecuteTime": {
     "end_time": "2020-10-07T05:39:12.178845Z",
     "start_time": "2020-10-07T05:39:12.173390Z"
    }
   },
   "outputs": [],
   "source": [
    "stats.mannwhitneyu(df['A'], df['B'])"
   ]
  },
  {
   "cell_type": "markdown",
   "metadata": {},
   "source": [
    "The Mann–Whitney U test (also called the Mann–Whitney–Wilcoxon (MWW), Wilcoxon rank-sum test, or Wilcoxon–Mann–Whitney test) is a nonparametric test of the null hypothesis of whether it is equally likely that a randomly selected value from one sample will be less than or greater than a randomly selected value from a second sample.\n",
    "\n",
    "Unlike the t-test, it does not require the assumption of normal distributions. It is also nearly as efficient as the t-test on normal distributions."
   ]
  },
  {
   "cell_type": "markdown",
   "metadata": {},
   "source": [
    "<a id=\"interpret-your-results\"></a>\n",
    "### Interpret Your Results\n",
    "* Compute the total customer spend for each group.\n",
    "* Is there a significant difference in the mean total purchases in the two designs?\n",
    "* Which design do you recommend? Why? \n",
    "* Write two sentences explaining your results and your recommendation."
   ]
  },
  {
   "cell_type": "code",
   "execution_count": null,
   "metadata": {
    "ExecuteTime": {
     "end_time": "2020-10-07T05:39:12.186904Z",
     "start_time": "2020-10-07T05:39:12.181359Z"
    }
   },
   "outputs": [],
   "source": [
    "#Was there a large difference in the customer spend?\n",
    "print(df['A'].sum())\n",
    "print(df['B'].sum())"
   ]
  },
  {
   "cell_type": "markdown",
   "metadata": {
    "ExecuteTime": {
     "end_time": "2020-06-16T22:17:29.321487Z",
     "start_time": "2020-06-16T22:17:29.317319Z"
    }
   },
   "source": [
    "###### Answer: Given the lack of significant (pvalue of .4) with small difference in overall spend - I would not update the site\n"
   ]
  },
  {
   "cell_type": "markdown",
   "metadata": {},
   "source": [
    "## Testing more than 2 means\n",
    "Now let's create some new data sets.\n",
    "- Let's make them rather different from each other...\n",
    "- ...and normally-distributed"
   ]
  },
  {
   "cell_type": "code",
   "execution_count": null,
   "metadata": {
    "ExecuteTime": {
     "end_time": "2020-10-07T05:39:12.202845Z",
     "start_time": "2020-10-07T05:39:12.189490Z"
    }
   },
   "outputs": [],
   "source": [
    "# some people bought less\n",
    "data1 = np.random.normal(10, 5, 100)\n",
    "\n",
    "# some people bought a medium amount\n",
    "data2 = np.random.normal(20, 5, 100)\n",
    "\n",
    "# some people bought more\n",
    "data3 = np.random.normal(30, 5, 100)\n",
    "\n",
    "# turn into a DataFrame (as we did above)\n",
    "\n",
    "three_means_df = pd.DataFrame()\n",
    "three_means_df[\"A\"] = data1\n",
    "three_means_df[\"B\"] = data2\n",
    "three_means_df[\"C\"] = data3\n",
    "\n",
    "\n",
    "three_means_df.head()"
   ]
  },
  {
   "cell_type": "markdown",
   "metadata": {},
   "source": [
    "#### Are our data sets (approximately) normal? \n",
    "- Create a histogram for each group to decide. use Pandas `.hist()`.\n",
    "- Don't forget to label the axes and add a title"
   ]
  },
  {
   "cell_type": "code",
   "execution_count": null,
   "metadata": {
    "ExecuteTime": {
     "end_time": "2020-10-07T05:39:12.396014Z",
     "start_time": "2020-10-07T05:39:12.204635Z"
    }
   },
   "outputs": [],
   "source": [
    "# plot the data the again\n",
    "plt.hist(three_means_df[\"A\"], bins='scott', label=\"A\")\n",
    "plt.hist(three_means_df[\"B\"], bins='scott', label=\"B\")\n",
    "plt.hist(three_means_df[\"C\"], bins='scott', label=\"C\")\n",
    "plt.legend()\n",
    "plt.ylabel(\"Counts\")\n",
    "plt.xlabel(\"Total Purchase\");\n"
   ]
  },
  {
   "cell_type": "code",
   "execution_count": null,
   "metadata": {
    "ExecuteTime": {
     "end_time": "2020-10-07T05:39:12.628750Z",
     "start_time": "2020-10-07T05:39:12.398091Z"
    }
   },
   "outputs": [],
   "source": [
    "#sometimes easier to see on seaborne\n",
    "sns.distplot(three_means_df['A']);\n",
    "sns.distplot(three_means_df['B']);\n",
    "sns.distplot(three_means_df['C']);\n",
    "plt.legend();\n",
    "plt.ylabel(\"Counts\");\n",
    "plt.xlabel(\"Total Purchase\");\n",
    "plt.title(\"Distribution Plots Groups A, B, C\");"
   ]
  },
  {
   "cell_type": "code",
   "execution_count": null,
   "metadata": {
    "ExecuteTime": {
     "end_time": "2020-10-07T05:39:12.637087Z",
     "start_time": "2020-10-07T05:39:12.632763Z"
    }
   },
   "outputs": [],
   "source": [
    "# All appear approximiately normal"
   ]
  },
  {
   "cell_type": "markdown",
   "metadata": {},
   "source": [
    "#### Are the variances of our variables similar?"
   ]
  },
  {
   "cell_type": "code",
   "execution_count": null,
   "metadata": {
    "ExecuteTime": {
     "end_time": "2020-10-07T05:39:12.650980Z",
     "start_time": "2020-10-07T05:39:12.639675Z"
    }
   },
   "outputs": [],
   "source": [
    "three_means_df.var()"
   ]
  },
  {
   "cell_type": "markdown",
   "metadata": {},
   "source": [
    "#### Use the one-way ANOVA to test for differences in our data.\n",
    "\n",
    "- Look up the function in SciPy [here](https://docs.scipy.org/doc/scipy/reference/generated/scipy.stats.f_oneway.html).\n",
    "- Statistic: (Float) The computed F-value of the test.\n",
    "- P value: (Float) The associated p-value from the F-distribution."
   ]
  },
  {
   "cell_type": "code",
   "execution_count": null,
   "metadata": {
    "ExecuteTime": {
     "end_time": "2020-10-07T05:39:12.679446Z",
     "start_time": "2020-10-07T05:39:12.658442Z"
    }
   },
   "outputs": [],
   "source": [
    "# use the one-way ANOVA to test for differences\n",
    "f, p = stats.f_oneway(three_means_df[\"A\"], three_means_df[\"B\"], three_means_df[\"C\"])\n",
    "\n",
    "print(f'F-statistic: {f}')\n",
    "print(f'p-value: {p}')"
   ]
  },
  {
   "cell_type": "markdown",
   "metadata": {},
   "source": [
    "### Interpret Your Results\n",
    "* Is there a significant difference in the mean of these three groups?\n",
    "* Which design do you recommend? Why? \n",
    "* Write two sentences explaining your results and your recommendation."
   ]
  },
  {
   "cell_type": "markdown",
   "metadata": {
    "ExecuteTime": {
     "end_time": "2020-06-24T05:08:06.324265Z",
     "start_time": "2020-06-24T05:08:06.320648Z"
    }
   },
   "source": [
    "**Answer:**\n",
    "The difference between these groups is extremely significant.\n",
    "Before a recommendation can be made regarding invidual groups, however, further analysis will be necessary.\n",
    "It may be tempting to recommend the third group, with the highest mean sales, but we only established \n",
    "these the means differ more than would be expected by chance alone.\n",
    "In other words, this does not tell the researcher anything about what the effects were, \n",
    "just that there most likely were real effects."
   ]
  },
  {
   "cell_type": "markdown",
   "metadata": {},
   "source": [
    "## Optional Practice: Acme Shopping\n",
    "\n",
    "#### Research Question:\n",
    "Are the spending amounts of men and women different at Acme?"
   ]
  },
  {
   "cell_type": "code",
   "execution_count": null,
   "metadata": {
    "ExecuteTime": {
     "end_time": "2020-10-07T05:39:12.718742Z",
     "start_time": "2020-10-07T05:39:12.690368Z"
    }
   },
   "outputs": [],
   "source": [
    "# Generating Data\n",
    "np.random.seed(123)\n",
    "df_m = pd.DataFrame({\n",
    "    'sex': 'M',\n",
    "    'amount': np.random.normal(loc=60, scale=3, size=100)\n",
    "})\n",
    "\n",
    "df_f = pd.DataFrame({\n",
    "    'sex': 'F',\n",
    "    'amount': np.random.normal(loc=70, scale=4, size=100)\n",
    "})\n",
    "\n",
    "df = pd.concat([df_m, df_f], axis=0)\n",
    "df.head()"
   ]
  },
  {
   "cell_type": "markdown",
   "metadata": {
    "ExecuteTime": {
     "end_time": "2020-10-07T05:28:23.896980Z",
     "start_time": "2020-10-07T05:28:23.893360Z"
    }
   },
   "source": [
    "###### Plot the data for each sex. What do you see?"
   ]
  },
  {
   "cell_type": "code",
   "execution_count": null,
   "metadata": {
    "ExecuteTime": {
     "end_time": "2020-10-07T05:39:12.978744Z",
     "start_time": "2020-10-07T05:39:12.724983Z"
    }
   },
   "outputs": [],
   "source": [
    "df.hist(column='amount', by='sex');"
   ]
  },
  {
   "cell_type": "markdown",
   "metadata": {
    "ExecuteTime": {
     "end_time": "2020-10-07T05:29:05.306698Z",
     "start_time": "2020-10-07T05:29:05.303803Z"
    }
   },
   "source": [
    "###### Formulate a hypothesis test:"
   ]
  },
  {
   "cell_type": "markdown",
   "metadata": {
    "ExecuteTime": {
     "end_time": "2020-10-07T05:39:12.987598Z",
     "start_time": "2020-10-07T05:39:12.981593Z"
    }
   },
   "source": [
    "ANSWER: There is no relationship between spending and gender"
   ]
  },
  {
   "cell_type": "markdown",
   "metadata": {},
   "source": [
    "###### Run a t-test"
   ]
  },
  {
   "cell_type": "code",
   "execution_count": null,
   "metadata": {
    "ExecuteTime": {
     "end_time": "2020-10-07T05:39:40.538302Z",
     "start_time": "2020-10-07T05:39:40.527034Z"
    }
   },
   "outputs": [],
   "source": [
    "# Run a t-test\n",
    "# assign a boolean index to split the data set\n",
    "is_m = df['sex'] =='M'\n",
    "is_f = df['sex'] =='F'\n",
    "\n",
    "stats.ttest_ind(df[is_m]['amount'], df[is_f]['amount'], equal_var=False)"
   ]
  },
  {
   "cell_type": "markdown",
   "metadata": {
    "ExecuteTime": {
     "end_time": "2020-06-24T05:08:15.748561Z",
     "start_time": "2020-06-24T05:08:15.744932Z"
    }
   },
   "source": [
    "###### Make a conclusion"
   ]
  },
  {
   "cell_type": "code",
   "execution_count": null,
   "metadata": {
    "ExecuteTime": {
     "end_time": "2020-10-07T05:39:40.548739Z",
     "start_time": "2020-10-07T05:39:40.541530Z"
    }
   },
   "outputs": [],
   "source": [
    "is_m = df['sex'] =='M'\n",
    "is_f = df['sex'] =='F'\n",
    "print('On average men spend ',df[is_m]['amount'].mean())\n",
    "print('On average women spend ',df[is_f]['amount'].mean())"
   ]
  },
  {
   "cell_type": "markdown",
   "metadata": {
    "ExecuteTime": {
     "end_time": "2020-06-24T05:08:18.319511Z",
     "start_time": "2020-06-24T05:08:18.316597Z"
    }
   },
   "source": [
    "###### ANSWER: \n",
    "Given the incredibly small value of p and the difference in spending we can reject the null hypothesis"
   ]
  },
  {
   "cell_type": "code",
   "execution_count": null,
   "metadata": {},
   "outputs": [],
   "source": []
  }
 ],
 "metadata": {
  "kernelspec": {
   "display_name": "Python 3",
   "language": "python",
   "name": "python3"
  },
  "language_info": {
   "codemirror_mode": {
    "name": "ipython",
    "version": 3
   },
   "file_extension": ".py",
   "mimetype": "text/x-python",
   "name": "python",
   "nbconvert_exporter": "python",
   "pygments_lexer": "ipython3",
   "version": "3.7.3"
  },
  "toc": {
   "base_numbering": 1,
   "nav_menu": {},
   "number_sections": true,
   "sideBar": true,
   "skip_h1_title": false,
   "title_cell": "Table of Contents",
   "title_sidebar": "Contents",
   "toc_cell": false,
   "toc_position": {},
   "toc_section_display": true,
   "toc_window_display": false
  }
 },
 "nbformat": 4,
 "nbformat_minor": 1
}
