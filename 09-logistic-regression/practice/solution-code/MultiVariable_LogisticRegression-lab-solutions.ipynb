{
 "cells": [
  {
   "cell_type": "markdown",
   "metadata": {},
   "source": [
    "<img src=\"http://imgur.com/1ZcRyrc.png\" style=\"float: left; margin: 20px; height: 55px\">\n",
    "\n",
    "# Multi-Variable Logistic Regression and Classification Matrix\n",
    "\n",
    "_ Authors: Sam Stack(DC)_\n",
    "\n"
   ]
  },
  {
   "cell_type": "markdown",
   "metadata": {},
   "source": [
    "**Exercise Objectives**\n",
    "- Hand on experience using Multi-Variable Logistic Regression\n",
    "- Review and Exploration of the Classification Matrix and its evaluation Metrics\n",
    "- Introduction to One vs. One and One vs. Rest Classifiers."
   ]
  },
  {
   "cell_type": "markdown",
   "metadata": {},
   "source": [
    "**Lets get some data.**\n",
    "One of the most popular classification datasets for Machine learning is the Iris Dataset, which can be loaded directly from `sklearn.datasets`\n",
    "- Sklearn datasets are imported as dictionaries and use keys to access specific aspects.\n",
    "    - `iris.data` : actual matrix of observations\n",
    "    - `iris.target` : target column for classification\n",
    "    - `iris.feature_names` :  column names"
   ]
  },
  {
   "cell_type": "code",
   "execution_count": 1,
   "metadata": {
    "ExecuteTime": {
     "end_time": "2020-10-12T22:17:08.008005Z",
     "start_time": "2020-10-12T22:17:03.064805Z"
    }
   },
   "outputs": [],
   "source": [
    "import seaborn as sns\n",
    "import pandas as pd\n",
    "from sklearn import datasets # import built-in datasets\n",
    "\n",
    "from sklearn.linear_model import LogisticRegression\n",
    "from sklearn.model_selection import train_test_split\n",
    "from sklearn.metrics import confusion_matrix\n",
    "from sklearn.metrics import classification_report\n",
    "from sklearn.multiclass import OneVsRestClassifier\n",
    "from sklearn.multiclass import OneVsOneClassifier\n",
    "\n"
   ]
  },
  {
   "cell_type": "code",
   "execution_count": 2,
   "metadata": {
    "ExecuteTime": {
     "end_time": "2020-10-12T22:17:13.816879Z",
     "start_time": "2020-10-12T22:17:13.805658Z"
    }
   },
   "outputs": [],
   "source": [
    "#Load the data\n",
    "iris = datasets.load_iris()\n",
    "\n",
    "X = pd.DataFrame(iris.data, columns = iris.feature_names)\n",
    "y = iris.target"
   ]
  },
  {
   "cell_type": "code",
   "execution_count": 3,
   "metadata": {
    "ExecuteTime": {
     "end_time": "2020-10-12T22:17:14.450474Z",
     "start_time": "2020-10-12T22:17:14.433231Z"
    }
   },
   "outputs": [
    {
     "data": {
      "text/html": [
       "<div>\n",
       "<style scoped>\n",
       "    .dataframe tbody tr th:only-of-type {\n",
       "        vertical-align: middle;\n",
       "    }\n",
       "\n",
       "    .dataframe tbody tr th {\n",
       "        vertical-align: top;\n",
       "    }\n",
       "\n",
       "    .dataframe thead th {\n",
       "        text-align: right;\n",
       "    }\n",
       "</style>\n",
       "<table border=\"1\" class=\"dataframe\">\n",
       "  <thead>\n",
       "    <tr style=\"text-align: right;\">\n",
       "      <th></th>\n",
       "      <th>sepal length (cm)</th>\n",
       "      <th>sepal width (cm)</th>\n",
       "      <th>petal length (cm)</th>\n",
       "      <th>petal width (cm)</th>\n",
       "    </tr>\n",
       "  </thead>\n",
       "  <tbody>\n",
       "    <tr>\n",
       "      <th>0</th>\n",
       "      <td>5.1</td>\n",
       "      <td>3.5</td>\n",
       "      <td>1.4</td>\n",
       "      <td>0.2</td>\n",
       "    </tr>\n",
       "    <tr>\n",
       "      <th>1</th>\n",
       "      <td>4.9</td>\n",
       "      <td>3.0</td>\n",
       "      <td>1.4</td>\n",
       "      <td>0.2</td>\n",
       "    </tr>\n",
       "    <tr>\n",
       "      <th>2</th>\n",
       "      <td>4.7</td>\n",
       "      <td>3.2</td>\n",
       "      <td>1.3</td>\n",
       "      <td>0.2</td>\n",
       "    </tr>\n",
       "    <tr>\n",
       "      <th>3</th>\n",
       "      <td>4.6</td>\n",
       "      <td>3.1</td>\n",
       "      <td>1.5</td>\n",
       "      <td>0.2</td>\n",
       "    </tr>\n",
       "    <tr>\n",
       "      <th>4</th>\n",
       "      <td>5.0</td>\n",
       "      <td>3.6</td>\n",
       "      <td>1.4</td>\n",
       "      <td>0.2</td>\n",
       "    </tr>\n",
       "  </tbody>\n",
       "</table>\n",
       "</div>"
      ],
      "text/plain": [
       "   sepal length (cm)  sepal width (cm)  petal length (cm)  petal width (cm)\n",
       "0                5.1               3.5                1.4               0.2\n",
       "1                4.9               3.0                1.4               0.2\n",
       "2                4.7               3.2                1.3               0.2\n",
       "3                4.6               3.1                1.5               0.2\n",
       "4                5.0               3.6                1.4               0.2"
      ]
     },
     "execution_count": 3,
     "metadata": {},
     "output_type": "execute_result"
    }
   ],
   "source": [
    "# Examine the data\n",
    "X.head()"
   ]
  },
  {
   "cell_type": "code",
   "execution_count": 4,
   "metadata": {
    "ExecuteTime": {
     "end_time": "2020-10-12T22:17:15.391931Z",
     "start_time": "2020-10-12T22:17:15.378363Z"
    }
   },
   "outputs": [
    {
     "data": {
      "text/plain": [
       "array([0, 0, 0, 0, 0, 0, 0, 0, 0, 0, 0, 0, 0, 0, 0, 0, 0, 0, 0, 0, 0, 0,\n",
       "       0, 0, 0, 0, 0, 0, 0, 0, 0, 0, 0, 0, 0, 0, 0, 0, 0, 0, 0, 0, 0, 0,\n",
       "       0, 0, 0, 0, 0, 0, 1, 1, 1, 1, 1, 1, 1, 1, 1, 1, 1, 1, 1, 1, 1, 1,\n",
       "       1, 1, 1, 1, 1, 1, 1, 1, 1, 1, 1, 1, 1, 1, 1, 1, 1, 1, 1, 1, 1, 1,\n",
       "       1, 1, 1, 1, 1, 1, 1, 1, 1, 1, 1, 1, 2, 2, 2, 2, 2, 2, 2, 2, 2, 2,\n",
       "       2, 2, 2, 2, 2, 2, 2, 2, 2, 2, 2, 2, 2, 2, 2, 2, 2, 2, 2, 2, 2, 2,\n",
       "       2, 2, 2, 2, 2, 2, 2, 2, 2, 2, 2, 2, 2, 2, 2, 2, 2, 2])"
      ]
     },
     "execution_count": 4,
     "metadata": {},
     "output_type": "execute_result"
    }
   ],
   "source": [
    "y"
   ]
  },
  {
   "cell_type": "markdown",
   "metadata": {},
   "source": [
    "**Break down of classes**  \n",
    "0 : Setosa  \n",
    "1 : Versicolour  \n",
    "2 : Virginica  \n",
    "\n",
    "----\n",
    "\n",
    "**Modelling**\n",
    "This data is extreamly neat and tidy so no cleaning necessary and we can get right into modelling."
   ]
  },
  {
   "cell_type": "code",
   "execution_count": 5,
   "metadata": {
    "ExecuteTime": {
     "end_time": "2020-10-12T22:17:17.492984Z",
     "start_time": "2020-10-12T22:17:17.424966Z"
    }
   },
   "outputs": [
    {
     "data": {
      "text/plain": [
       "LogisticRegression()"
      ]
     },
     "execution_count": 5,
     "metadata": {},
     "output_type": "execute_result"
    }
   ],
   "source": [
    "# model the data, use a cross validation technique as well\n",
    "\n",
    "\n",
    "lr = LogisticRegression()\n",
    "\n",
    "x_train, x_test, y_train, y_test = train_test_split(X,y)\n",
    "\n",
    "\n",
    "lr.fit(x_train,y_train)\n"
   ]
  },
  {
   "cell_type": "code",
   "execution_count": 6,
   "metadata": {
    "ExecuteTime": {
     "end_time": "2020-10-12T22:17:18.150674Z",
     "start_time": "2020-10-12T22:17:18.144268Z"
    }
   },
   "outputs": [],
   "source": [
    "# model.predict\n",
    "y_pred = lr.predict(x_test)"
   ]
  },
  {
   "cell_type": "code",
   "execution_count": 7,
   "metadata": {
    "ExecuteTime": {
     "end_time": "2020-10-12T22:17:18.668698Z",
     "start_time": "2020-10-12T22:17:18.658792Z"
    }
   },
   "outputs": [
    {
     "data": {
      "text/plain": [
       "array([[11,  0,  0],\n",
       "       [ 0,  8,  1],\n",
       "       [ 0,  3, 15]])"
      ]
     },
     "execution_count": 7,
     "metadata": {},
     "output_type": "execute_result"
    }
   ],
   "source": [
    "# evaluated model preformance with a confusion matrix.\n",
    "\n",
    "confusion_matrix(y_test, y_pred)"
   ]
  },
  {
   "cell_type": "markdown",
   "metadata": {},
   "source": [
    "With a multivariable confusion matrix, some of our labellings (True Pos., True Neg., False Pos., False Neg.) get a little warped.  We are not longer predicting one class from a null class we are classifiying into 3 distinguished classes.  \n",
    "\n",
    "The **True** diagonal stays the same as these are properly classified observations.  \n",
    "\n",
    "\n",
    "|  Actual/Pred   | Class 0 | Class 1  | Class 2 |\n",
    "| --- | ------- |:--------:| -------:|\n",
    "| **Pred Class 0**  | 15      | 0        | 0       |\n",
    "| **Pred Class 1**    | 0       | 11       |   0     |\n",
    "| **Pred Class 2**    | 0       | 1        |    11   |\n",
    "\n",
    "\n",
    "It is better to stick with True and False labels with multi-class to avoid ...[_Confusion_](https://www.youtube.com/watch?v=bcYppAs6ZdI)\n",
    "\n",
    "If you need to reffer to a False Positive or True Negative it is better to first select a specific class, such as `Class 2 ` and refer to classification or missclassification relative to said choosen class instead of the set of all classes as a whole. \n",
    "\n",
    "Example:\n",
    "    _True Negatives relative to Class 2 are True Positives for Class 0 and Class 1._"
   ]
  },
  {
   "cell_type": "markdown",
   "metadata": {},
   "source": [
    "Speaking of our Classes?  How are probabilities calculated with multi class?\n",
    "- Are they Probability of `Class 0` vs. `Not Class 0`?\n",
    "- Or Probability of `Class 0` vs. `Class 1` vs. `Class 2` ?"
   ]
  },
  {
   "cell_type": "code",
   "execution_count": 8,
   "metadata": {
    "ExecuteTime": {
     "end_time": "2020-10-12T22:17:20.578346Z",
     "start_time": "2020-10-12T22:17:20.568754Z"
    }
   },
   "outputs": [
    {
     "data": {
      "text/plain": [
       "array([[9.71142605e-01, 2.88573521e-02, 4.30546934e-08],\n",
       "       [1.98023958e-03, 4.87716142e-01, 5.10303619e-01],\n",
       "       [1.02094966e-03, 5.29948015e-01, 4.69031035e-01],\n",
       "       [9.94622005e-01, 5.37799277e-03, 2.10227052e-09],\n",
       "       [3.09270072e-06, 8.23731987e-03, 9.91759587e-01],\n",
       "       [1.09886224e-08, 1.29754811e-03, 9.98702441e-01],\n",
       "       [9.86188665e-01, 1.38113199e-02, 1.46511893e-08],\n",
       "       [9.40881926e-04, 4.43938418e-01, 5.55120700e-01],\n",
       "       [2.77635276e-02, 9.43438761e-01, 2.87977112e-02],\n",
       "       [3.14124817e-05, 6.05020827e-02, 9.39466505e-01],\n",
       "       [9.46688699e-01, 5.33110275e-02, 2.73210864e-07],\n",
       "       [1.20574284e-03, 4.87022808e-01, 5.11771450e-01],\n",
       "       [5.39095729e-05, 9.07874406e-02, 9.09158650e-01],\n",
       "       [8.26643343e-03, 9.16597468e-01, 7.51360985e-02],\n",
       "       [5.89190769e-06, 1.98496067e-02, 9.80144501e-01],\n",
       "       [3.19469034e-05, 5.48204000e-02, 9.45147653e-01],\n",
       "       [2.07209294e-03, 5.56162141e-01, 4.41765766e-01],\n",
       "       [9.89842933e-01, 1.01570622e-02, 5.08938340e-09],\n",
       "       [9.66614803e-01, 3.33850777e-02, 1.19731252e-07],\n",
       "       [1.94396256e-07, 3.72503297e-03, 9.96274773e-01],\n",
       "       [6.16280895e-04, 2.67575986e-01, 7.31807733e-01],\n",
       "       [1.49784716e-03, 3.29386994e-01, 6.69115159e-01],\n",
       "       [9.67132355e-01, 3.28675686e-02, 7.60376480e-08],\n",
       "       [1.82799338e-04, 1.95435275e-01, 8.04381926e-01],\n",
       "       [1.77678720e-06, 8.41968830e-03, 9.91578535e-01],\n",
       "       [8.24772503e-02, 9.14553580e-01, 2.96916928e-03],\n",
       "       [1.13977460e-05, 2.15261378e-02, 9.78462464e-01],\n",
       "       [9.86998879e-01, 1.30011096e-02, 1.10988365e-08],\n",
       "       [2.42379768e-02, 9.59083157e-01, 1.66788659e-02],\n",
       "       [2.71065555e-01, 7.28073045e-01, 8.61400433e-04],\n",
       "       [2.55159335e-02, 9.53875882e-01, 2.06081849e-02],\n",
       "       [1.01185363e-02, 7.06762413e-01, 2.83119051e-01],\n",
       "       [1.46035307e-04, 1.24157389e-01, 8.75696575e-01],\n",
       "       [7.30730827e-03, 8.50321785e-01, 1.42370906e-01],\n",
       "       [9.83996672e-01, 1.60033110e-02, 1.72487874e-08],\n",
       "       [9.65495115e-01, 3.45048270e-02, 5.77761441e-08],\n",
       "       [4.04702530e-02, 9.49289145e-01, 1.02406017e-02],\n",
       "       [9.48963302e-01, 5.10365850e-02, 1.13054128e-07]])"
      ]
     },
     "execution_count": 8,
     "metadata": {},
     "output_type": "execute_result"
    }
   ],
   "source": [
    "# use predict_proba to find out.\n",
    "lr.predict_proba(x_test)"
   ]
  },
  {
   "cell_type": "code",
   "execution_count": 9,
   "metadata": {
    "ExecuteTime": {
     "end_time": "2020-10-12T22:17:21.047947Z",
     "start_time": "2020-10-12T22:17:21.037092Z"
    }
   },
   "outputs": [
    {
     "name": "stdout",
     "output_type": "stream",
     "text": [
      "1.0\n",
      "1.0\n",
      "0.9999999999999999\n",
      "1.0\n",
      "1.0\n",
      "0.9999999999999999\n",
      "1.0\n",
      "1.0\n",
      "1.0\n",
      "1.0\n",
      "1.0\n",
      "1.0\n",
      "1.0\n",
      "1.0000000000000002\n",
      "1.0\n",
      "1.0\n",
      "0.9999999999999999\n",
      "1.0\n",
      "1.0000000000000002\n",
      "1.0\n",
      "1.0\n",
      "1.0\n",
      "1.0\n",
      "1.0\n",
      "1.0\n",
      "1.0000000000000002\n",
      "1.0\n",
      "0.9999999999999999\n",
      "1.0\n",
      "1.0\n",
      "1.0\n",
      "1.0\n",
      "1.0\n",
      "0.9999999999999999\n",
      "0.9999999999999999\n",
      "1.0000000000000002\n",
      "1.0\n",
      "1.0\n"
     ]
    }
   ],
   "source": [
    "for a,b,c in lr.predict_proba(x_test):\n",
    "    print(sum([a,b,c]))"
   ]
  },
  {
   "cell_type": "markdown",
   "metadata": {},
   "source": [
    "Looks like our probabilities of each class all add up to 1, so it is like `Class 0` vs. `Class 1` vs. `Class 2`.\n",
    "\n",
    "What if we wanted to create a logistic regression that has `Class 0` vs. `Class 1` & `Class 2` or just `Class 0` vs. `Class 2`?  We will cover that in a bit, but first more evaluation metrics.\n",
    "\n",
    "---\n",
    "\n",
    "**Classification Reports/Matrix**\n",
    "\n",
    "Classification reports are another means of evauliation classification models and return a few metrics that are based on True Positives, False Positives and False Negatives.  "
   ]
  },
  {
   "cell_type": "code",
   "execution_count": 10,
   "metadata": {
    "ExecuteTime": {
     "end_time": "2020-10-12T22:17:22.996055Z",
     "start_time": "2020-10-12T22:17:22.985008Z"
    }
   },
   "outputs": [
    {
     "name": "stdout",
     "output_type": "stream",
     "text": [
      "              precision    recall  f1-score   support\n",
      "\n",
      "           0       1.00      1.00      1.00        11\n",
      "           1       0.73      0.89      0.80         9\n",
      "           2       0.94      0.83      0.88        18\n",
      "\n",
      "    accuracy                           0.89        38\n",
      "   macro avg       0.89      0.91      0.89        38\n",
      "weighted avg       0.91      0.89      0.90        38\n",
      "\n"
     ]
    }
   ],
   "source": [
    "# produce the classification report\n",
    "print(classification_report(y_test, y_pred))"
   ]
  },
  {
   "cell_type": "markdown",
   "metadata": {},
   "source": [
    "**Precision**  \n",
    "- \"How many of the items selected are relevant.\"\n",
    "- Of the items placed into a class, how many of the are True Positives.\n",
    "\n",
    "\n",
    "$$\\frac{True Positives}{True Positives + False Positives}$$"
   ]
  },
  {
   "cell_type": "markdown",
   "metadata": {},
   "source": [
    "**Recall**  \n",
    "- \"How many of the relevant items are selected.\"\n",
    "- Of the items that were suppose to be placed into a class, how many did we accurately place.\n",
    "\n",
    "\n",
    "$$\\frac{True Positives}{True Positives + False Negatives}$$"
   ]
  },
  {
   "cell_type": "markdown",
   "metadata": {},
   "source": [
    "**F1-Score**\n",
    "\n",
    "F1 exists on a range of 0 - 1 where 0 is just aweful and 1 is perfection.\n",
    "F1 is considered a harmonic mean as it averages Precision and Recall.  With classification models you often times have to chooise what kind of error you are willing to increase in order to reduce the other and thus you may want to optimize Precision or Recall accordingly.  If you are uncertain which you should optimize, F1 score may be the metric of choice.\n",
    "\n",
    "$$2*\\frac{precision * recall}{precision + recall}$$"
   ]
  },
  {
   "cell_type": "markdown",
   "metadata": {},
   "source": [
    "**Support**\n",
    "Number of true observations in given class.  The count of possible true observations.  \n",
    "\n",
    "---"
   ]
  },
  {
   "cell_type": "markdown",
   "metadata": {},
   "source": [
    "\n",
    "\n",
    "Earlier we talked about building models relative to class combinations.  Distinguishing One class from all other classes or just One specific class from another specific class.  These goals are possible with Logistic Regression.\n",
    "\n",
    "Up until this point we have used one model, but there are also Machine Learning methods that involve combining several models to come to a more refined conclusion, commonly reffered to as Ensemble Methods."
   ]
  },
  {
   "cell_type": "markdown",
   "metadata": {},
   "source": [
    "### One Vs. Rest Classification.\n",
    "\n",
    "One vs. Rest Classification is a method that builds an individual model for each class to try to distingush said specific class from the rest of the classes.  Since we are only focusing on one class, `Class 1` these classfiers will group `Class2`, `Class3`, `Class4` into a single class of `Not Class 1`.  Same all the way through for the rest of the classes.\n",
    "\n",
    "1 - Class1 vs. Class2, Class3, Class4  \n",
    "2 - Class2 vs. Class1, Class3, Class4  \n",
    "3 - Class3 vs. Class1, Class2, Class4   \n",
    "4 - Class4 vs. Class1, Class2, Class3  "
   ]
  },
  {
   "cell_type": "markdown",
   "metadata": {},
   "source": [
    "### One Vs. One Classification.\n",
    "\n",
    "We train a model for every set of classes.  As more classes are added this becomes more computationally expense.  \n",
    "\n",
    "1 - Class1 vs. Class2  \n",
    "2 - Class1 vs. Class3  \n",
    "3 - Class1 vs. Class4  \n",
    "4 - Class2 vs. Class3  \n",
    "5 - Class2 vs. Class4  \n",
    "6 - Class3 vs. Class4  \n"
   ]
  },
  {
   "cell_type": "markdown",
   "metadata": {},
   "source": [
    "#### One Vs. Rest Classifier"
   ]
  },
  {
   "cell_type": "code",
   "execution_count": null,
   "metadata": {},
   "outputs": [],
   "source": [
    "# One v Rest\n",
    "LR = LogisticRegression()\n",
    "OVC = OneVsRestClassifier(LR)\n",
    "OVC.fit(x_train, y_train)"
   ]
  },
  {
   "cell_type": "code",
   "execution_count": null,
   "metadata": {},
   "outputs": [],
   "source": [
    "y_pred = OVC.predict(x_test)\n",
    "\n",
    "confusion_matrix(y_test, y_pred)"
   ]
  },
  {
   "cell_type": "markdown",
   "metadata": {},
   "source": [
    "#### One Vs. One Classifier"
   ]
  },
  {
   "cell_type": "code",
   "execution_count": null,
   "metadata": {},
   "outputs": [],
   "source": [
    "# One v One\n",
    "LR = LogisticRegression()\n",
    "OVO = OneVsOneClassifier(LR)\n",
    "OVO.fit(x_train,y_train)"
   ]
  },
  {
   "cell_type": "code",
   "execution_count": null,
   "metadata": {},
   "outputs": [],
   "source": [
    "y_pred = OVO.predict(x_test)\n",
    "\n",
    "confusion_matrix(y_test, y_pred)"
   ]
  },
  {
   "cell_type": "markdown",
   "metadata": {},
   "source": [
    "One Vs. One/Rest Classifiers are not restricted to fitting using Logistic Regression.  With SKLearn, any type of Classification model can be placed into the One Vs X classification ensemble."
   ]
  },
  {
   "cell_type": "code",
   "execution_count": null,
   "metadata": {},
   "outputs": [],
   "source": []
  }
 ],
 "metadata": {
  "kernelspec": {
   "display_name": "Python 3",
   "language": "python",
   "name": "python3"
  },
  "language_info": {
   "codemirror_mode": {
    "name": "ipython",
    "version": 3
   },
   "file_extension": ".py",
   "mimetype": "text/x-python",
   "name": "python",
   "nbconvert_exporter": "python",
   "pygments_lexer": "ipython3",
   "version": "3.7.3"
  },
  "toc": {
   "base_numbering": 1,
   "nav_menu": {},
   "number_sections": true,
   "sideBar": true,
   "skip_h1_title": false,
   "title_cell": "Table of Contents",
   "title_sidebar": "Contents",
   "toc_cell": false,
   "toc_position": {},
   "toc_section_display": true,
   "toc_window_display": false
  }
 },
 "nbformat": 4,
 "nbformat_minor": 2
}
