{
 "cells": [
  {
   "cell_type": "markdown",
   "metadata": {},
   "source": [
    "<img src=\"http://imgur.com/1ZcRyrc.png\" style=\"float: left; margin: 20px; height: 55px\">\n",
    "\n",
    "# Intro to Classification and Model Tuning\n",
    "### Logistic Regression - SVC - Baseline Accuracy - Hyperparameter Tuning\n",
    "\n",
    "---\n",
    "\n",
    "### Key Terms:\n",
    "- Logistic Regression \n",
    "- Support Vector Machine\n",
    "- Baseline Baseline Accuracy\n",
    "- Model Hyperparameter\n",
    "\n",
    "### Expected Knowledge:\n",
    "- Manipulating data with Pandas\n"
   ]
  },
  {
   "cell_type": "markdown",
   "metadata": {},
   "source": [
    "## Learning about two popular classification models\n",
    "\n",
    "### Logistic Regression \n",
    "\n",
    "![Linear against log](./assets/Lin_vs_log.png)\n",
    "\n",
    "[Logistic Regression](https://en.wikipedia.org/wiki/Logistic_regression)\n",
    "\n",
    "It's a simple supervised model that works relatively well to classify data against our training set.\n",
    "    \n",
    "**Pros**:\n",
    "    - Simple & works surprisingly well most of the time\n",
    "    - Fast to train\n",
    "    - Easy to interpret\n",
    "    - Gives confidence value for its predictsions\n",
    "    - Implicityly considers all linear combinations of features\n",
    "    - It is scale agnostic (0 ->1 )\n",
    "  \n",
    "**Cons**:\n",
    "    - Not Multilabel\n",
    "    - Somewhat susceptible to outliers\n",
    "    - Struggles with collinear features\n",
    "    - It's... simple\n",
    "\n",
    "\n"
   ]
  },
  {
   "cell_type": "markdown",
   "metadata": {},
   "source": [
    "## Expanding our understanding of Machine Learning by looking at multiple models together\n",
    "\n",
    "As we get further into class we'll be exploring additional models. Most, if not all of them, follow the 4 steps of sklearn model building quite closely\n",
    "\n",
    ">1. Import the model\n",
    ">2. Instantiate a model object\n",
    ">3. Fit it to data\n",
    ">4. Make a prediction\n",
    "\n",
    "There are a few nuances to tuning parameters and how a model is constructed but you should be able to begin independently exploring the documentation by this point as you look for options for your own capstone project. The first additional model we'll add is a Support Vector Machine or SVM. As we continue through class you'll be exposed to 20+ model types to give you a strong background is exploring the full world of machine learning after class.\n",
    "\n",
    "The SVM was the original king of machine learning as it used an insightful trick to be able to quickly make predictions after a model was fit. While new models have arisen since it's hayday 10 years ago, it's still a powerful and effective model. Let's learn a little bit about it.\n",
    "\n",
    "### Support Vector Machine Classifier\n",
    "\n",
    "\n",
    "- [Support Vector Machine](https://en.wikipedia.org/wiki/Support_vector_machine)\n",
    "\n",
    "**Background** The goal of a support vector machine is to find  the optimal separating hyperplane which maximizes the margin of the training data. \n",
    "\n",
    "**Pros**:\n",
    "    - Powerful Model\n",
    "    - Popularized modern machine learning due to it's extreme power (dethroned by Deep Learning)\n",
    "    - Robust to outliers\n",
    "    - Uses the kernel trick \n",
    "      \n",
    "**Cons**:\n",
    "    - Many possible settings\n",
    "    - Slow to train\n",
    "    - Scale matters\n",
    "    - Can be a black box (it's hard to understand how or why it makes predictions)\n",
    "    - Does not provide predicted probabilities\n",
    "    \n",
    "**What do we know?**\n",
    "\n",
    "- It needs training data so it's a supervised model\n",
    "- We're using it for classification\n",
    "\n",
    "**What do we not know**\n",
    "- How does it make predictions?\n",
    "- What is a hyperplane?\n",
    "\n",
    "Those questions are inherently linked. A **hyperplane** is the seperation of space between our classes. If we break it down further we can better understand it.\n",
    "\n",
    "- in one dimension, an hyperplane is called a point\n",
    "- in two dimensions, it is a line\n",
    "- in three dimensions, it is a plane\n",
    "- in more dimensions you can call it an hyperplane\n",
    "\n",
    "As we start to understand that concept it begs another question. I can draw alot of lines so which is the right one? That's the goal of the SVM - **Finding the optimal hyperplane**. Finding this optimal hyperplane is dependent on a few particular vectors that support its placement - or support vectors.\n",
    "\n",
    "Support Vectors are the data points closest to the hyperplane or decision line. These are the data points that are the **most difficult** to classify. Given their proximity to the hyperplane they have direct bearing on its optimum location. Essentially Support vectors would change the elements of the training set if moved or removed and are critical elements of the training set.\n",
    "\n",
    "![image.png](./assets/SupportVector.png)\n",
    "\n",
    "\n",
    "**Now to optimize our hyperlane!**\n",
    "\n",
    "Step 1 - Seperate the plane as far as you can from data\n",
    "![Optimal Hyperplane](./assets/optimal-hyperplane.png)\n",
    "\n",
    "Step 2 - Find the hyperplane with the largest margin\n",
    "\n",
    "For any hyperplane we can compute the margin.\n",
    " - Find the distance between the hyperplane and the closest data point. \n",
    " - Take that distance and double it\n",
    " \n",
    "Now you have the **margin**. Basically the margin is an area where you will not find any data points. (Note: this can cause some problems when data is noisy)\n",
    "\n",
    "![Margin](./assets/margin.png)\n",
    "\n",
    "\n",
    "\n",
    "### Kernel Trick: For when our data isn't already linearly separable\n",
    "\n",
    "The below picture shows the true magic behind a Support Vector Machine. The objects on the left are mapped as we'd originally find them. A full seperation would require a curve and thus more complexity than drawing a line. In a support vector machine we rearrange using a set of mathmatical functions known as **kernels**. An intuitive way to think about kernels is a similarity function. Given two objects the kernel outputs some similarity score. The simpliest example is the linear kernel or dot-product. Given two vectors, the similarity is the lenght of hte projections of one vector to another. Given a data point to classify, the decision function makes use of the kernel by comparing that data point to a number of support vectors weighted by the learned parameters. The support vectors are in the domain of that data point and along the learned parameters are found by the learning algorithm. \n",
    "\n",
    "![Kernels](assets/Input_Feature.gif)\n",
    "\n",
    "### Sometimes it's helpful to see this in 3d\n",
    "\n",
    "While it's hard to draw a line to divide the classes in the picture on the left, it's easy on the right\n",
    "\n",
    "![Kernels-2d-to-3d](./assets/2d-to-3d.png)\n",
    "\n",
    "### Another example\n",
    "\n",
    "<img src=\"./assets/2d-to-3d-projection.jpeg\" width=\"600\">\n",
    "\n",
    "#### Parameters\n",
    "\n",
    ">class sklearn.svm.SVC(C=1.0, kernel=’rbf’, degree=3, gamma=’auto’, coef0=0.0, shrinking=True, probability=False, tol=0.001, cache_size=200, class_weight=None, verbose=False, max_iter=-1, decision_function_shape=’ovr’, random_state=None)\n",
    "\n",
    "Today we're going to adjust C. The C parameter trades off misclassification of training examples against simplicity of the decision surface. A low C makes the decision surface smooth, while a high C aims at classifying all training examples correctly\n",
    "by giving the model freedom to select more samples as support vectors. \n",
    "\n",
    "![BigC_LittleC](assets/BigC_LittleC.png)\n",
    "\n",
    "As we regularize, or penalize C, we can visualize the impact on our predictions\n",
    "![Regularize](assets/c_regulation.png)\n",
    "\n",
    "Note: \n",
    "* Here's a good source on [understanding the math](https://www.svm-tutorial.com/2014/11/svm-understanding-math-part-1/) or [The Idiot's Guide to SVM](http://web.mit.edu/6.034/wwwbob/svm-notes-long-08.pdf)\n",
    "* Learn more about [Kernels](https://en.wikipedia.org/wiki/Kernel_method#Mathematics:_the_kernel_trick)"
   ]
  },
  {
   "cell_type": "code",
   "execution_count": 1,
   "metadata": {
    "ExecuteTime": {
     "end_time": "2020-10-22T04:59:11.523814Z",
     "start_time": "2020-10-22T04:59:08.186393Z"
    }
   },
   "outputs": [],
   "source": [
    "# Library Imports\n",
    "import pandas as pd\n",
    "import numpy as np\n",
    "\n",
    "from sklearn.linear_model import LogisticRegression\n",
    "from sklearn.model_selection import train_test_split\n",
    "from sklearn.linear_model import LogisticRegression\n",
    "from sklearn.svm import SVC\n",
    "from sklearn.metrics import confusion_matrix\n",
    "from sklearn.metrics import classification_report\n",
    "import missingno as msgn\n",
    "\n",
    "import matplotlib.pyplot as plt\n",
    "import seaborn as sns\n",
    "\n",
    "%matplotlib inline \n",
    "%config InlineBackend.figure_format = 'retina'\n",
    "\n",
    "plt.rcParams['figure.figsize'] = (10, 10)"
   ]
  },
  {
   "cell_type": "markdown",
   "metadata": {},
   "source": [
    "# Lesson Structure:\n",
    "\n",
    "In this lesson, you will build two types of classifiers\n",
    "\n",
    "1. A [Logistic Regression Classifier](http://scikit-learn.org/stable/modules/generated/sklearn.linear_model.LogisticRegression.html)\n",
    "2. A [Suport Vector Machine Classifier](http://scikit-learn.org/stable/modules/generated/sklearn.svm.SVC.html#sklearn.svm.SVC)\n",
    "\n",
    "We will train these models on a dataset of tumors, aiming to classify a given tumor as benign or malignant. "
   ]
  },
  {
   "cell_type": "markdown",
   "metadata": {},
   "source": [
    "### Steps:\n",
    "---\n",
    "**1. EDA**\n",
    "    - Analyze the dataset, mostly through visualizations.\n",
    "**2. Data Preparation**\n",
    "    - Handle non-numeric features.\n",
    "    - Handle missing values.\n",
    "    - Compute the baseline accuracy.\n",
    "**3. Model Training**\n",
    "    - Performing a train-test split on our data\n",
    "    - Fitting the models of your choice (today: LogisticRegression and SVC) on the training data.\n",
    "    - Scoring our trained models on the test data.\n",
    "    \n",
    "**4. Model Evaluation**\n",
    "    - Gaining an understanding of how our model makes predictions.\n",
    "    - Tuning our model to obtain better results."
   ]
  },
  {
   "cell_type": "markdown",
   "metadata": {},
   "source": [
    "![](http://www.biosytechworld.com/media/3188/123.jpg)"
   ]
  },
  {
   "cell_type": "code",
   "execution_count": 2,
   "metadata": {
    "ExecuteTime": {
     "end_time": "2020-10-22T04:59:11.555835Z",
     "start_time": "2020-10-22T04:59:11.526296Z"
    }
   },
   "outputs": [
    {
     "data": {
      "text/html": [
       "<div>\n",
       "<style scoped>\n",
       "    .dataframe tbody tr th:only-of-type {\n",
       "        vertical-align: middle;\n",
       "    }\n",
       "\n",
       "    .dataframe tbody tr th {\n",
       "        vertical-align: top;\n",
       "    }\n",
       "\n",
       "    .dataframe thead th {\n",
       "        text-align: right;\n",
       "    }\n",
       "</style>\n",
       "<table border=\"1\" class=\"dataframe\">\n",
       "  <thead>\n",
       "    <tr style=\"text-align: right;\">\n",
       "      <th></th>\n",
       "      <th>Sample_code_number</th>\n",
       "      <th>Clump_Thickness</th>\n",
       "      <th>Uniformity_of_Cell_Size</th>\n",
       "      <th>Uniformity_of_Cell_Shape</th>\n",
       "      <th>Marginal_Adhesion</th>\n",
       "      <th>Single_Epithelial_Cell_Size</th>\n",
       "      <th>Bare_Nuclei</th>\n",
       "      <th>Bland_Chromatin</th>\n",
       "      <th>Normal_Nucleoli</th>\n",
       "      <th>Mitoses</th>\n",
       "      <th>Class</th>\n",
       "    </tr>\n",
       "  </thead>\n",
       "  <tbody>\n",
       "    <tr>\n",
       "      <th>0</th>\n",
       "      <td>1000025</td>\n",
       "      <td>5</td>\n",
       "      <td>1</td>\n",
       "      <td>1</td>\n",
       "      <td>1</td>\n",
       "      <td>2</td>\n",
       "      <td>1</td>\n",
       "      <td>3</td>\n",
       "      <td>1</td>\n",
       "      <td>1</td>\n",
       "      <td>Benign</td>\n",
       "    </tr>\n",
       "    <tr>\n",
       "      <th>1</th>\n",
       "      <td>1002945</td>\n",
       "      <td>5</td>\n",
       "      <td>4</td>\n",
       "      <td>4</td>\n",
       "      <td>5</td>\n",
       "      <td>7</td>\n",
       "      <td>10</td>\n",
       "      <td>3</td>\n",
       "      <td>2</td>\n",
       "      <td>1</td>\n",
       "      <td>Benign</td>\n",
       "    </tr>\n",
       "    <tr>\n",
       "      <th>2</th>\n",
       "      <td>1015425</td>\n",
       "      <td>3</td>\n",
       "      <td>1</td>\n",
       "      <td>1</td>\n",
       "      <td>1</td>\n",
       "      <td>2</td>\n",
       "      <td>2</td>\n",
       "      <td>3</td>\n",
       "      <td>1</td>\n",
       "      <td>1</td>\n",
       "      <td>Benign</td>\n",
       "    </tr>\n",
       "    <tr>\n",
       "      <th>3</th>\n",
       "      <td>1016277</td>\n",
       "      <td>6</td>\n",
       "      <td>8</td>\n",
       "      <td>8</td>\n",
       "      <td>1</td>\n",
       "      <td>3</td>\n",
       "      <td>4</td>\n",
       "      <td>3</td>\n",
       "      <td>7</td>\n",
       "      <td>1</td>\n",
       "      <td>Benign</td>\n",
       "    </tr>\n",
       "    <tr>\n",
       "      <th>4</th>\n",
       "      <td>1017023</td>\n",
       "      <td>4</td>\n",
       "      <td>1</td>\n",
       "      <td>1</td>\n",
       "      <td>3</td>\n",
       "      <td>2</td>\n",
       "      <td>1</td>\n",
       "      <td>3</td>\n",
       "      <td>1</td>\n",
       "      <td>1</td>\n",
       "      <td>Benign</td>\n",
       "    </tr>\n",
       "  </tbody>\n",
       "</table>\n",
       "</div>"
      ],
      "text/plain": [
       "   Sample_code_number  Clump_Thickness  Uniformity_of_Cell_Size  \\\n",
       "0             1000025                5                        1   \n",
       "1             1002945                5                        4   \n",
       "2             1015425                3                        1   \n",
       "3             1016277                6                        8   \n",
       "4             1017023                4                        1   \n",
       "\n",
       "   Uniformity_of_Cell_Shape  Marginal_Adhesion  Single_Epithelial_Cell_Size  \\\n",
       "0                         1                  1                            2   \n",
       "1                         4                  5                            7   \n",
       "2                         1                  1                            2   \n",
       "3                         8                  1                            3   \n",
       "4                         1                  3                            2   \n",
       "\n",
       "  Bare_Nuclei  Bland_Chromatin  Normal_Nucleoli  Mitoses   Class  \n",
       "0           1                3                1        1  Benign  \n",
       "1          10                3                2        1  Benign  \n",
       "2           2                3                1        1  Benign  \n",
       "3           4                3                7        1  Benign  \n",
       "4           1                3                1        1  Benign  "
      ]
     },
     "execution_count": 2,
     "metadata": {},
     "output_type": "execute_result"
    }
   ],
   "source": [
    "df = pd.read_csv('./datasets/cancer_uci.csv', index_col='Unnamed: 0')\n",
    "\n",
    "df.head()"
   ]
  },
  {
   "cell_type": "markdown",
   "metadata": {},
   "source": [
    "# Part 1: EDA"
   ]
  },
  {
   "cell_type": "markdown",
   "metadata": {},
   "source": [
    "Verifying Data Integrity"
   ]
  },
  {
   "cell_type": "code",
   "execution_count": 3,
   "metadata": {
    "ExecuteTime": {
     "end_time": "2020-10-22T04:59:12.964679Z",
     "start_time": "2020-10-22T04:59:12.954517Z"
    }
   },
   "outputs": [
    {
     "data": {
      "text/plain": [
       "(699, 11)"
      ]
     },
     "execution_count": 3,
     "metadata": {},
     "output_type": "execute_result"
    }
   ],
   "source": [
    "# Check the number of rows and columns of our dataset\n",
    "df.shape"
   ]
  },
  {
   "cell_type": "code",
   "execution_count": 4,
   "metadata": {
    "ExecuteTime": {
     "end_time": "2020-10-22T04:59:13.510159Z",
     "start_time": "2020-10-22T04:59:13.499309Z"
    }
   },
   "outputs": [
    {
     "name": "stdout",
     "output_type": "stream",
     "text": [
      "<class 'pandas.core.frame.DataFrame'>\n",
      "Int64Index: 699 entries, 0 to 698\n",
      "Data columns (total 11 columns):\n",
      " #   Column                       Non-Null Count  Dtype \n",
      "---  ------                       --------------  ----- \n",
      " 0   Sample_code_number           699 non-null    int64 \n",
      " 1   Clump_Thickness              699 non-null    int64 \n",
      " 2   Uniformity_of_Cell_Size      699 non-null    int64 \n",
      " 3   Uniformity_of_Cell_Shape     699 non-null    int64 \n",
      " 4   Marginal_Adhesion            699 non-null    int64 \n",
      " 5   Single_Epithelial_Cell_Size  699 non-null    int64 \n",
      " 6   Bare_Nuclei                  699 non-null    object\n",
      " 7   Bland_Chromatin              699 non-null    int64 \n",
      " 8   Normal_Nucleoli              699 non-null    int64 \n",
      " 9   Mitoses                      699 non-null    int64 \n",
      " 10  Class                        699 non-null    object\n",
      "dtypes: int64(9), object(2)\n",
      "memory usage: 65.5+ KB\n"
     ]
    }
   ],
   "source": [
    "# Check the data types and verify we have no missing values\n",
    "df.info()"
   ]
  },
  {
   "cell_type": "code",
   "execution_count": 5,
   "metadata": {
    "ExecuteTime": {
     "end_time": "2020-10-22T04:59:14.086863Z",
     "start_time": "2020-10-22T04:59:14.079893Z"
    }
   },
   "outputs": [
    {
     "data": {
      "text/plain": [
       "Sample_code_number              int64\n",
       "Clump_Thickness                 int64\n",
       "Uniformity_of_Cell_Size         int64\n",
       "Uniformity_of_Cell_Shape        int64\n",
       "Marginal_Adhesion               int64\n",
       "Single_Epithelial_Cell_Size     int64\n",
       "Bare_Nuclei                    object\n",
       "Bland_Chromatin                 int64\n",
       "Normal_Nucleoli                 int64\n",
       "Mitoses                         int64\n",
       "Class                          object\n",
       "dtype: object"
      ]
     },
     "execution_count": 5,
     "metadata": {},
     "output_type": "execute_result"
    }
   ],
   "source": [
    "# Confirming dtypes\n",
    "df.dtypes"
   ]
  },
  {
   "cell_type": "code",
   "execution_count": 6,
   "metadata": {
    "ExecuteTime": {
     "end_time": "2020-10-22T04:59:15.024804Z",
     "start_time": "2020-10-22T04:59:15.019375Z"
    }
   },
   "outputs": [
    {
     "data": {
      "text/plain": [
       "array(['1', '10', '2', '4', '3', '9', '7', '?', '5', '8', '6'],\n",
       "      dtype=object)"
      ]
     },
     "execution_count": 6,
     "metadata": {},
     "output_type": "execute_result"
    }
   ],
   "source": [
    "# For our non-numeric columns, explore how many (and what) categories we have\n",
    "df['Bare_Nuclei'].unique()"
   ]
  },
  {
   "cell_type": "code",
   "execution_count": 7,
   "metadata": {
    "ExecuteTime": {
     "end_time": "2020-10-22T04:59:15.673419Z",
     "start_time": "2020-10-22T04:59:15.650886Z"
    }
   },
   "outputs": [
    {
     "data": {
      "text/html": [
       "<div>\n",
       "<style scoped>\n",
       "    .dataframe tbody tr th:only-of-type {\n",
       "        vertical-align: middle;\n",
       "    }\n",
       "\n",
       "    .dataframe tbody tr th {\n",
       "        vertical-align: top;\n",
       "    }\n",
       "\n",
       "    .dataframe thead th {\n",
       "        text-align: right;\n",
       "    }\n",
       "</style>\n",
       "<table border=\"1\" class=\"dataframe\">\n",
       "  <thead>\n",
       "    <tr style=\"text-align: right;\">\n",
       "      <th></th>\n",
       "      <th>Sample_code_number</th>\n",
       "      <th>Clump_Thickness</th>\n",
       "      <th>Uniformity_of_Cell_Size</th>\n",
       "      <th>Uniformity_of_Cell_Shape</th>\n",
       "      <th>Marginal_Adhesion</th>\n",
       "      <th>Single_Epithelial_Cell_Size</th>\n",
       "      <th>Bland_Chromatin</th>\n",
       "      <th>Normal_Nucleoli</th>\n",
       "      <th>Mitoses</th>\n",
       "    </tr>\n",
       "  </thead>\n",
       "  <tbody>\n",
       "    <tr>\n",
       "      <th>Sample_code_number</th>\n",
       "      <td>1.000000</td>\n",
       "      <td>-0.055308</td>\n",
       "      <td>-0.041603</td>\n",
       "      <td>-0.041576</td>\n",
       "      <td>-0.064878</td>\n",
       "      <td>-0.045528</td>\n",
       "      <td>-0.060051</td>\n",
       "      <td>-0.052072</td>\n",
       "      <td>-0.034901</td>\n",
       "    </tr>\n",
       "    <tr>\n",
       "      <th>Clump_Thickness</th>\n",
       "      <td>-0.055308</td>\n",
       "      <td>1.000000</td>\n",
       "      <td>0.644913</td>\n",
       "      <td>0.654589</td>\n",
       "      <td>0.486356</td>\n",
       "      <td>0.521816</td>\n",
       "      <td>0.558428</td>\n",
       "      <td>0.535835</td>\n",
       "      <td>0.350034</td>\n",
       "    </tr>\n",
       "    <tr>\n",
       "      <th>Uniformity_of_Cell_Size</th>\n",
       "      <td>-0.041603</td>\n",
       "      <td>0.644913</td>\n",
       "      <td>1.000000</td>\n",
       "      <td>0.906882</td>\n",
       "      <td>0.705582</td>\n",
       "      <td>0.751799</td>\n",
       "      <td>0.755721</td>\n",
       "      <td>0.722865</td>\n",
       "      <td>0.458693</td>\n",
       "    </tr>\n",
       "    <tr>\n",
       "      <th>Uniformity_of_Cell_Shape</th>\n",
       "      <td>-0.041576</td>\n",
       "      <td>0.654589</td>\n",
       "      <td>0.906882</td>\n",
       "      <td>1.000000</td>\n",
       "      <td>0.683079</td>\n",
       "      <td>0.719668</td>\n",
       "      <td>0.735948</td>\n",
       "      <td>0.719446</td>\n",
       "      <td>0.438911</td>\n",
       "    </tr>\n",
       "    <tr>\n",
       "      <th>Marginal_Adhesion</th>\n",
       "      <td>-0.064878</td>\n",
       "      <td>0.486356</td>\n",
       "      <td>0.705582</td>\n",
       "      <td>0.683079</td>\n",
       "      <td>1.000000</td>\n",
       "      <td>0.599599</td>\n",
       "      <td>0.666715</td>\n",
       "      <td>0.603352</td>\n",
       "      <td>0.417633</td>\n",
       "    </tr>\n",
       "    <tr>\n",
       "      <th>Single_Epithelial_Cell_Size</th>\n",
       "      <td>-0.045528</td>\n",
       "      <td>0.521816</td>\n",
       "      <td>0.751799</td>\n",
       "      <td>0.719668</td>\n",
       "      <td>0.599599</td>\n",
       "      <td>1.000000</td>\n",
       "      <td>0.616102</td>\n",
       "      <td>0.628881</td>\n",
       "      <td>0.479101</td>\n",
       "    </tr>\n",
       "    <tr>\n",
       "      <th>Bland_Chromatin</th>\n",
       "      <td>-0.060051</td>\n",
       "      <td>0.558428</td>\n",
       "      <td>0.755721</td>\n",
       "      <td>0.735948</td>\n",
       "      <td>0.666715</td>\n",
       "      <td>0.616102</td>\n",
       "      <td>1.000000</td>\n",
       "      <td>0.665878</td>\n",
       "      <td>0.344169</td>\n",
       "    </tr>\n",
       "    <tr>\n",
       "      <th>Normal_Nucleoli</th>\n",
       "      <td>-0.052072</td>\n",
       "      <td>0.535835</td>\n",
       "      <td>0.722865</td>\n",
       "      <td>0.719446</td>\n",
       "      <td>0.603352</td>\n",
       "      <td>0.628881</td>\n",
       "      <td>0.665878</td>\n",
       "      <td>1.000000</td>\n",
       "      <td>0.428336</td>\n",
       "    </tr>\n",
       "    <tr>\n",
       "      <th>Mitoses</th>\n",
       "      <td>-0.034901</td>\n",
       "      <td>0.350034</td>\n",
       "      <td>0.458693</td>\n",
       "      <td>0.438911</td>\n",
       "      <td>0.417633</td>\n",
       "      <td>0.479101</td>\n",
       "      <td>0.344169</td>\n",
       "      <td>0.428336</td>\n",
       "      <td>1.000000</td>\n",
       "    </tr>\n",
       "  </tbody>\n",
       "</table>\n",
       "</div>"
      ],
      "text/plain": [
       "                             Sample_code_number  Clump_Thickness  \\\n",
       "Sample_code_number                     1.000000        -0.055308   \n",
       "Clump_Thickness                       -0.055308         1.000000   \n",
       "Uniformity_of_Cell_Size               -0.041603         0.644913   \n",
       "Uniformity_of_Cell_Shape              -0.041576         0.654589   \n",
       "Marginal_Adhesion                     -0.064878         0.486356   \n",
       "Single_Epithelial_Cell_Size           -0.045528         0.521816   \n",
       "Bland_Chromatin                       -0.060051         0.558428   \n",
       "Normal_Nucleoli                       -0.052072         0.535835   \n",
       "Mitoses                               -0.034901         0.350034   \n",
       "\n",
       "                             Uniformity_of_Cell_Size  \\\n",
       "Sample_code_number                         -0.041603   \n",
       "Clump_Thickness                             0.644913   \n",
       "Uniformity_of_Cell_Size                     1.000000   \n",
       "Uniformity_of_Cell_Shape                    0.906882   \n",
       "Marginal_Adhesion                           0.705582   \n",
       "Single_Epithelial_Cell_Size                 0.751799   \n",
       "Bland_Chromatin                             0.755721   \n",
       "Normal_Nucleoli                             0.722865   \n",
       "Mitoses                                     0.458693   \n",
       "\n",
       "                             Uniformity_of_Cell_Shape  Marginal_Adhesion  \\\n",
       "Sample_code_number                          -0.041576          -0.064878   \n",
       "Clump_Thickness                              0.654589           0.486356   \n",
       "Uniformity_of_Cell_Size                      0.906882           0.705582   \n",
       "Uniformity_of_Cell_Shape                     1.000000           0.683079   \n",
       "Marginal_Adhesion                            0.683079           1.000000   \n",
       "Single_Epithelial_Cell_Size                  0.719668           0.599599   \n",
       "Bland_Chromatin                              0.735948           0.666715   \n",
       "Normal_Nucleoli                              0.719446           0.603352   \n",
       "Mitoses                                      0.438911           0.417633   \n",
       "\n",
       "                             Single_Epithelial_Cell_Size  Bland_Chromatin  \\\n",
       "Sample_code_number                             -0.045528        -0.060051   \n",
       "Clump_Thickness                                 0.521816         0.558428   \n",
       "Uniformity_of_Cell_Size                         0.751799         0.755721   \n",
       "Uniformity_of_Cell_Shape                        0.719668         0.735948   \n",
       "Marginal_Adhesion                               0.599599         0.666715   \n",
       "Single_Epithelial_Cell_Size                     1.000000         0.616102   \n",
       "Bland_Chromatin                                 0.616102         1.000000   \n",
       "Normal_Nucleoli                                 0.628881         0.665878   \n",
       "Mitoses                                         0.479101         0.344169   \n",
       "\n",
       "                             Normal_Nucleoli   Mitoses  \n",
       "Sample_code_number                 -0.052072 -0.034901  \n",
       "Clump_Thickness                     0.535835  0.350034  \n",
       "Uniformity_of_Cell_Size             0.722865  0.458693  \n",
       "Uniformity_of_Cell_Shape            0.719446  0.438911  \n",
       "Marginal_Adhesion                   0.603352  0.417633  \n",
       "Single_Epithelial_Cell_Size         0.628881  0.479101  \n",
       "Bland_Chromatin                     0.665878  0.344169  \n",
       "Normal_Nucleoli                     1.000000  0.428336  \n",
       "Mitoses                             0.428336  1.000000  "
      ]
     },
     "execution_count": 7,
     "metadata": {},
     "output_type": "execute_result"
    }
   ],
   "source": [
    "# Looking for pairwise correlations between the features (Heatmap)\n",
    "df.corr()"
   ]
  },
  {
   "cell_type": "code",
   "execution_count": 8,
   "metadata": {
    "ExecuteTime": {
     "end_time": "2020-10-22T04:59:17.296764Z",
     "start_time": "2020-10-22T04:59:16.702651Z"
    }
   },
   "outputs": [
    {
     "data": {
      "image/png": "[encoded data removed]",
      "text/plain": [
       "<Figure size 432x288 with 2 Axes>"
      ]
     },
     "metadata": {
      "image/png": {
       "height": 374,
       "width": 471
      },
      "needs_background": "light"
     },
     "output_type": "display_data"
    }
   ],
   "source": [
    "# NOTE: As a learning experience, run sns.pairplot on this data\n",
    "# Also try: sns.pairplot(df, hue='Class', plot_kws={'alpha':0.1})\n",
    "sns.heatmap(df.corr(),annot=True,linewidths=0.01, cmap='Blues');"
   ]
  },
  {
   "cell_type": "code",
   "execution_count": 9,
   "metadata": {
    "ExecuteTime": {
     "end_time": "2020-10-22T04:59:18.972807Z",
     "start_time": "2020-10-22T04:59:18.574644Z"
    }
   },
   "outputs": [
    {
     "data": {
      "text/plain": [
       "<matplotlib.axes._subplots.AxesSubplot at 0x7f82410dde10>"
      ]
     },
     "execution_count": 9,
     "metadata": {},
     "output_type": "execute_result"
    },
    {
     "data": {
      "image/png": "[encoded data removed]",
      "text/plain": [
       "<Figure size 1440x288 with 1 Axes>"
      ]
     },
     "metadata": {
      "image/png": {
       "height": 303,
       "width": 1184
      },
      "needs_background": "light"
     },
     "output_type": "display_data"
    }
   ],
   "source": [
    "# Groupby is also a great EDA tool\n",
    "\n",
    "df.groupby('Class').mean().plot(kind='bar', figsize=(20,4))"
   ]
  },
  {
   "cell_type": "markdown",
   "metadata": {},
   "source": [
    "# Part 2: Preparing the data"
   ]
  },
  {
   "cell_type": "code",
   "execution_count": 10,
   "metadata": {
    "ExecuteTime": {
     "end_time": "2020-10-22T04:59:20.045975Z",
     "start_time": "2020-10-22T04:59:20.041280Z"
    }
   },
   "outputs": [],
   "source": [
    "# Drop columns you will not use\n",
    "data = df.drop(['Sample_code_number'], axis=1)"
   ]
  },
  {
   "cell_type": "code",
   "execution_count": 11,
   "metadata": {
    "ExecuteTime": {
     "end_time": "2020-10-22T04:59:20.538826Z",
     "start_time": "2020-10-22T04:59:20.533681Z"
    }
   },
   "outputs": [],
   "source": [
    "# Handle 'bad data'\n",
    "data['Bare_Nuclei'] = data['Bare_Nuclei'].apply(lambda x: np.nan if x =='?' else float(x))"
   ]
  },
  {
   "cell_type": "markdown",
   "metadata": {},
   "source": [
    "### Find Missing Data"
   ]
  },
  {
   "cell_type": "markdown",
   "metadata": {},
   "source": [
    "#### OPTIONAL: Installing a python library\n",
    "\n",
    "To install `missingno` run `!pip install missingno` in a cell. You only ever need to do this once."
   ]
  },
  {
   "cell_type": "code",
   "execution_count": 12,
   "metadata": {
    "ExecuteTime": {
     "end_time": "2020-10-22T04:59:21.997997Z",
     "start_time": "2020-10-22T04:59:21.993653Z"
    }
   },
   "outputs": [],
   "source": [
    "# uncomment the line below and execute the cell to install missingno\n",
    "#!pip install missingno"
   ]
  },
  {
   "cell_type": "markdown",
   "metadata": {},
   "source": [
    "#### Clean up missing data"
   ]
  },
  {
   "cell_type": "code",
   "execution_count": 13,
   "metadata": {
    "ExecuteTime": {
     "end_time": "2020-10-22T04:59:27.812811Z",
     "start_time": "2020-10-22T04:59:27.804206Z"
    }
   },
   "outputs": [
    {
     "data": {
      "text/plain": [
       "Clump_Thickness                 0\n",
       "Uniformity_of_Cell_Size         0\n",
       "Uniformity_of_Cell_Shape        0\n",
       "Marginal_Adhesion               0\n",
       "Single_Epithelial_Cell_Size     0\n",
       "Bare_Nuclei                    16\n",
       "Bland_Chromatin                 0\n",
       "Normal_Nucleoli                 0\n",
       "Mitoses                         0\n",
       "Class                           0\n",
       "dtype: int64"
      ]
     },
     "execution_count": 13,
     "metadata": {},
     "output_type": "execute_result"
    }
   ],
   "source": [
    "# Discover bad data:\n",
    "# Option 1: data.isna().sum()\n",
    "# Option 2: data.isna().mean()\n",
    "\n",
    "# Find rows with missing data\n",
    "data.isna().sum()\n",
    "\n",
    "# Uncomment the line below if you installed missingno\n",
    "#msgn.matrix(data)"
   ]
  },
  {
   "cell_type": "code",
   "execution_count": 14,
   "metadata": {
    "ExecuteTime": {
     "end_time": "2020-10-22T04:59:28.714519Z",
     "start_time": "2020-10-22T04:59:28.708323Z"
    }
   },
   "outputs": [],
   "source": [
    "# Drop rows with missing values\n",
    "\n",
    "clean_data = data.dropna(how='any')"
   ]
  },
  {
   "cell_type": "code",
   "execution_count": 15,
   "metadata": {
    "ExecuteTime": {
     "end_time": "2020-10-22T04:59:29.252009Z",
     "start_time": "2020-10-22T04:59:29.236459Z"
    }
   },
   "outputs": [],
   "source": [
    "# optional: uncomment if missingno is installed\n",
    "#msgn.matrix(clean_data)"
   ]
  },
  {
   "cell_type": "code",
   "execution_count": 16,
   "metadata": {
    "ExecuteTime": {
     "end_time": "2020-10-22T04:59:29.793139Z",
     "start_time": "2020-10-22T04:59:29.786843Z"
    }
   },
   "outputs": [],
   "source": [
    "# Separate features from target - set up X and y\n",
    "\n",
    "X = clean_data.drop('Class', axis=1)\n",
    "y = clean_data['Class']\n"
   ]
  },
  {
   "cell_type": "markdown",
   "metadata": {},
   "source": [
    "#### Finding the baseline\n",
    "For classification problems the baseline model is usually just guessing everything is the largest category. That means your baseline accuracy is determined by the percentage of results in the category with the largest number of entries."
   ]
  },
  {
   "cell_type": "code",
   "execution_count": 17,
   "metadata": {
    "ExecuteTime": {
     "end_time": "2020-10-22T04:59:30.950174Z",
     "start_time": "2020-10-22T04:59:30.942461Z"
    }
   },
   "outputs": [
    {
     "data": {
      "text/plain": [
       "Benign       444\n",
       "Malignant    239\n",
       "Name: Class, dtype: int64"
      ]
     },
     "execution_count": 17,
     "metadata": {},
     "output_type": "execute_result"
    }
   ],
   "source": [
    "# Find the baseline - i.e. largest category in our target\n",
    "y.value_counts()"
   ]
  },
  {
   "cell_type": "code",
   "execution_count": 18,
   "metadata": {
    "ExecuteTime": {
     "end_time": "2020-10-22T04:59:31.570309Z",
     "start_time": "2020-10-22T04:59:31.562081Z"
    }
   },
   "outputs": [
    {
     "data": {
      "text/plain": [
       "Benign       0.650073\n",
       "Malignant    0.349927\n",
       "Name: Class, dtype: float64"
      ]
     },
     "execution_count": 18,
     "metadata": {},
     "output_type": "execute_result"
    }
   ],
   "source": [
    "# Normalize it to get the fraction\n",
    "y.value_counts(normalize=True)"
   ]
  },
  {
   "cell_type": "markdown",
   "metadata": {},
   "source": [
    "# Part 3: Training a Model"
   ]
  },
  {
   "cell_type": "code",
   "execution_count": 19,
   "metadata": {
    "ExecuteTime": {
     "end_time": "2020-10-22T04:59:46.600934Z",
     "start_time": "2020-10-22T04:59:46.597247Z"
    }
   },
   "outputs": [],
   "source": [
    "# instantiate logistic regression\n",
    "lr = LogisticRegression()\n",
    "\n",
    "\n",
    "# instantiate Support Vector Classifier\n",
    "svc = SVC()"
   ]
  },
  {
   "cell_type": "code",
   "execution_count": 20,
   "metadata": {
    "ExecuteTime": {
     "end_time": "2020-10-22T04:59:48.147929Z",
     "start_time": "2020-10-22T04:59:48.140995Z"
    }
   },
   "outputs": [],
   "source": [
    "# Train-test split w/ 80-20\n",
    "\n",
    "X_train, X_test, y_train, y_test = train_test_split(X,y, test_size=0.2, random_state=1987)"
   ]
  },
  {
   "cell_type": "code",
   "execution_count": 21,
   "metadata": {
    "ExecuteTime": {
     "end_time": "2020-10-22T04:59:49.174890Z",
     "start_time": "2020-10-22T04:59:49.146024Z"
    }
   },
   "outputs": [
    {
     "data": {
      "text/plain": [
       "0.9416058394160584"
      ]
     },
     "execution_count": 21,
     "metadata": {},
     "output_type": "execute_result"
    }
   ],
   "source": [
    "# fit logistic regression\n",
    "lr.fit(X_train,y_train)\n",
    "\n",
    "# score it\n",
    "lr.score(X_test,y_test)\n"
   ]
  },
  {
   "cell_type": "code",
   "execution_count": 22,
   "metadata": {
    "ExecuteTime": {
     "end_time": "2020-10-22T04:59:51.414502Z",
     "start_time": "2020-10-22T04:59:51.400529Z"
    }
   },
   "outputs": [
    {
     "data": {
      "text/plain": [
       "0.948905109489051"
      ]
     },
     "execution_count": 22,
     "metadata": {},
     "output_type": "execute_result"
    }
   ],
   "source": [
    "# fit svc\n",
    "svc.fit(X_train,y_train)\n",
    "\n",
    "#score svc\n",
    "svc.score(X_test,y_test)"
   ]
  },
  {
   "cell_type": "markdown",
   "metadata": {},
   "source": [
    "# Part 4: Model Evaluation\n",
    "\n",
    "We will discuss the evaluation of classification models in detail either at the end of this class or during the next lesson. For now, our main concern is accuracy."
   ]
  },
  {
   "cell_type": "code",
   "execution_count": 23,
   "metadata": {
    "ExecuteTime": {
     "end_time": "2020-10-22T04:59:53.099664Z",
     "start_time": "2020-10-22T04:59:53.090408Z"
    }
   },
   "outputs": [
    {
     "data": {
      "text/plain": [
       "Benign       0.656934\n",
       "Malignant    0.343066\n",
       "Name: Class, dtype: float64"
      ]
     },
     "execution_count": 23,
     "metadata": {},
     "output_type": "execute_result"
    }
   ],
   "source": [
    "# Reminding ourselves of the baseline we are trying to beat\n",
    "y_test.value_counts(normalize=True)"
   ]
  },
  {
   "cell_type": "code",
   "execution_count": 24,
   "metadata": {
    "ExecuteTime": {
     "end_time": "2020-10-22T04:59:53.616477Z",
     "start_time": "2020-10-22T04:59:53.606999Z"
    }
   },
   "outputs": [
    {
     "data": {
      "text/plain": [
       "0.9416058394160584"
      ]
     },
     "execution_count": 24,
     "metadata": {},
     "output_type": "execute_result"
    }
   ],
   "source": [
    "# Looking at the model accuracy\n",
    "lr.score(X_test, y_test)"
   ]
  },
  {
   "cell_type": "markdown",
   "metadata": {},
   "source": [
    "Our model is very accurate, but is it confident in its predictions? Could we trust it to automate the diagnosis of some patients?"
   ]
  },
  {
   "cell_type": "code",
   "execution_count": 25,
   "metadata": {
    "ExecuteTime": {
     "end_time": "2020-10-22T04:59:54.499860Z",
     "start_time": "2020-10-22T04:59:54.494192Z"
    }
   },
   "outputs": [],
   "source": [
    "y_proba = lr.predict_proba(X_test)"
   ]
  },
  {
   "cell_type": "code",
   "execution_count": 26,
   "metadata": {
    "ExecuteTime": {
     "end_time": "2020-10-22T04:59:55.285167Z",
     "start_time": "2020-10-22T04:59:55.098454Z"
    }
   },
   "outputs": [
    {
     "data": {
      "text/plain": [
       "<matplotlib.axes._subplots.AxesSubplot at 0x7f82407c7208>"
      ]
     },
     "execution_count": 26,
     "metadata": {},
     "output_type": "execute_result"
    },
    {
     "data": {
      "image/png": "[encoded data removed]",
      "text/plain": [
       "<Figure size 432x288 with 1 Axes>"
      ]
     },
     "metadata": {
      "image/png": {
       "height": 250,
       "width": 370
      },
      "needs_background": "light"
     },
     "output_type": "display_data"
    }
   ],
   "source": [
    "sns.distplot(y_proba[:,1], kde=False)"
   ]
  },
  {
   "cell_type": "code",
   "execution_count": 27,
   "metadata": {
    "ExecuteTime": {
     "end_time": "2020-10-22T04:59:55.865010Z",
     "start_time": "2020-10-22T04:59:55.521058Z"
    }
   },
   "outputs": [
    {
     "data": {
      "image/png": "[encoded data removed]",
      "text/plain": [
       "<Figure size 432x288 with 1 Axes>"
      ]
     },
     "metadata": {
      "image/png": {
       "height": 250,
       "width": 370
      },
      "needs_background": "light"
     },
     "output_type": "display_data"
    }
   ],
   "source": [
    "sns.distplot(y_proba[:,1], bins=100, kde=False);"
   ]
  },
  {
   "cell_type": "code",
   "execution_count": 28,
   "metadata": {
    "ExecuteTime": {
     "end_time": "2020-10-22T04:59:56.139186Z",
     "start_time": "2020-10-22T04:59:56.134462Z"
    }
   },
   "outputs": [],
   "source": [
    "# Ideally we'd also spend some time looking at the confusion matrix."
   ]
  },
  {
   "cell_type": "markdown",
   "metadata": {},
   "source": [
    "# Code Summary"
   ]
  },
  {
   "cell_type": "code",
   "execution_count": 29,
   "metadata": {
    "ExecuteTime": {
     "end_time": "2020-10-22T04:59:56.988537Z",
     "start_time": "2020-10-22T04:59:56.942065Z"
    }
   },
   "outputs": [
    {
     "name": "stdout",
     "output_type": "stream",
     "text": [
      "Baseline: 0.65\n",
      "Logistic Regression: 0.942\n",
      "Support Vector Machine: 0.949\n"
     ]
    }
   ],
   "source": [
    "\n",
    "\n",
    "# Reading the data\n",
    "df = pd.read_csv('./datasets/cancer_uci.csv', index_col='Unnamed: 0')\n",
    "\n",
    "# Dropping an unusable column\n",
    "data = df.drop(['Sample_code_number'], axis=1)\n",
    "\n",
    "# Identifying missing numbers\n",
    "data['Bare_Nuclei'] = data['Bare_Nuclei'].apply(lambda x: np.nan if x =='?' else float(x))\n",
    "\n",
    "# Dropping the few rows with missing numbers\n",
    "clean_data = data.dropna(how='any')\n",
    "\n",
    "# Separating the target from the features\n",
    "y = clean_data['Class']\n",
    "X = clean_data.drop('Class', axis=1)\n",
    "\n",
    "# Computing the baseline\n",
    "print('Baseline:', y.value_counts(normalize=True)[0].round(3))\n",
    "\n",
    "# Instantiating a Logistic Regression Model\n",
    "lr = LogisticRegression()\n",
    "\n",
    "# Instantiating a Support Vector Machine Model\n",
    "svc = SVC()\n",
    "\n",
    "# Fitting the models\n",
    "lr.fit(X_train, y_train)\n",
    "svc.fit(X_train, y_train)\n",
    "\n",
    "# Scoring the models:\n",
    "print('Logistic Regression:', lr.score(X_test, y_test).round(3))\n",
    "print('Support Vector Machine:', svc.score(X_test, y_test).round(3))"
   ]
  },
  {
   "cell_type": "markdown",
   "metadata": {},
   "source": [
    "# BONUS WORK 1\n",
    "\n",
    "Try using other `kernels` and `C` values in the SVM model to obtain a higher accuracy on your test set."
   ]
  },
  {
   "cell_type": "code",
   "execution_count": null,
   "metadata": {},
   "outputs": [],
   "source": []
  },
  {
   "cell_type": "markdown",
   "metadata": {},
   "source": [
    "# BONUS WORK 2\n",
    "\n",
    "\n",
    "![](https://www.researchgate.net/profile/Juan_Banda/publication/256418526/figure/fig1/AS:297921313558528@1448041384565/Confusion-matrix-example.png)\n",
    "\n",
    "# Confusion Matrix\n",
    "This is a good (if difficult) way to look at your model and where it makes mistakes."
   ]
  },
  {
   "cell_type": "code",
   "execution_count": 32,
   "metadata": {
    "ExecuteTime": {
     "end_time": "2020-10-22T05:00:43.644363Z",
     "start_time": "2020-10-22T05:00:43.601518Z"
    }
   },
   "outputs": [
    {
     "name": "stdout",
     "output_type": "stream",
     "text": [
      "Awesome Score: 0.948905109489051\n",
      "Good Score: 0.9416058394160584\n",
      "Bad Score: 0.4306569343065693\n"
     ]
    }
   ],
   "source": [
    "# Here I'm training a deliberately good and bad model\n",
    "\n",
    "svc_awesome = SVC(kernel='rbf')\n",
    "svc_good = SVC(kernel='rbf', C=0.01)\n",
    "svc_bad = SVC(kernel='sigmoid')\n",
    "\n",
    "svc_awesome.fit(X_train, y_train)\n",
    "svc_good.fit(X_train, y_train)\n",
    "svc_bad.fit(X_train, y_train)\n",
    "\n",
    "\n",
    "awesome_score = svc_awesome.score(X_test, y_test)\n",
    "good_score = svc_good.score(X_test, y_test)\n",
    "bad_score = svc_bad.score(X_test, y_test)\n",
    "print(f'Awesome Score: {awesome_score}')\n",
    "print(f'Good Score: {good_score}')\n",
    "print(f'Bad Score: {bad_score}')"
   ]
  },
  {
   "cell_type": "markdown",
   "metadata": {},
   "source": [
    "### Let's look at confusion matrices again\n",
    "\n",
    "A confusion matrix allows you to visualize the performance of an algorithm on a test set of data vs known true values. There are a few methods \n",
    "\n",
    "| Metric  | Description  | Output  |\n",
    "|-----|-----|-----|\n",
    "|[confusion_matrix(y_true, y_pred)](https://scikit-learn.org/stable/modules/generated/sklearn.metrics.confusion_matrix.html#sklearn.metrics.confusion_matrix)| Compute confusion matrix to evaluate the accuracy of a classification | Grid |\n",
    "|[multilabel_confusion_matrix(y_true, …)](https://scikit-learn.org/stable/modules/generated/sklearn.metrics.multilabel_confusion_matrix.html#sklearn.metrics.multilabel_confusion_matrix)| Compute a confusion matrix for each class or sample | Grid |\n",
    "|[plot_confusion_matrix(estimator, X, …)](https://scikit-learn.org/stable/modules/generated/sklearn.metrics.plot_confusion_matrix.html#sklearn.metrics.plot_confusion_matrix)| Plot Confusion Matrix | Plot |\n",
    "|[ConfusionMatrixDisplay(...)](https://scikit-learn.org/stable/modules/generated/sklearn.metrics.ConfusionMatrixDisplay.html#sklearn.metrics.ConfusionMatrixDisplay)| Confusion Matrix visualization| Plot |"
   ]
  },
  {
   "cell_type": "code",
   "execution_count": 33,
   "metadata": {
    "ExecuteTime": {
     "end_time": "2020-10-22T05:03:07.247931Z",
     "start_time": "2020-10-22T05:03:07.236685Z"
    }
   },
   "outputs": [
    {
     "data": {
      "text/plain": [
       "array([[87,  3],\n",
       "       [ 4, 43]])"
      ]
     },
     "execution_count": 33,
     "metadata": {},
     "output_type": "execute_result"
    }
   ],
   "source": [
    "# confusion matrix\n",
    "\n",
    "y_pred_awesome = svc_awesome.predict(X_test)\n",
    "confusion_matrix(y_test, y_pred_awesome)"
   ]
  },
  {
   "cell_type": "markdown",
   "metadata": {},
   "source": [
    "![](https://www.researchgate.net/profile/Juan_Banda/publication/256418526/figure/fig1/AS:297921313558528@1448041384565/Confusion-matrix-example.png)"
   ]
  },
  {
   "cell_type": "code",
   "execution_count": 40,
   "metadata": {
    "ExecuteTime": {
     "end_time": "2020-10-21T14:55:38.238516Z",
     "start_time": "2020-10-21T14:55:38.233007Z"
    }
   },
   "outputs": [],
   "source": [
    "def make_confusion_matrix(y_true, X, model):\n",
    "    classes = model.classes_\n",
    "    confusion_matrix_values = confusion_matrix(y_true, model.predict(X), labels=classes)\n",
    "    data_frame = pd.DataFrame(confusion_matrix_values, columns=classes, index=classes)\n",
    "    return data_frame"
   ]
  },
  {
   "cell_type": "code",
   "execution_count": 44,
   "metadata": {
    "ExecuteTime": {
     "end_time": "2020-10-21T14:56:50.476783Z",
     "start_time": "2020-10-21T14:56:50.463864Z"
    }
   },
   "outputs": [
    {
     "name": "stdout",
     "output_type": "stream",
     "text": [
      "rows = actual, cols = predicted\n"
     ]
    },
    {
     "data": {
      "text/html": [
       "<div>\n",
       "<style scoped>\n",
       "    .dataframe tbody tr th:only-of-type {\n",
       "        vertical-align: middle;\n",
       "    }\n",
       "\n",
       "    .dataframe tbody tr th {\n",
       "        vertical-align: top;\n",
       "    }\n",
       "\n",
       "    .dataframe thead th {\n",
       "        text-align: right;\n",
       "    }\n",
       "</style>\n",
       "<table border=\"1\" class=\"dataframe\">\n",
       "  <thead>\n",
       "    <tr style=\"text-align: right;\">\n",
       "      <th></th>\n",
       "      <th>Benign</th>\n",
       "      <th>Malignant</th>\n",
       "    </tr>\n",
       "  </thead>\n",
       "  <tbody>\n",
       "    <tr>\n",
       "      <th>Benign</th>\n",
       "      <td>87</td>\n",
       "      <td>3</td>\n",
       "    </tr>\n",
       "    <tr>\n",
       "      <th>Malignant</th>\n",
       "      <td>4</td>\n",
       "      <td>43</td>\n",
       "    </tr>\n",
       "  </tbody>\n",
       "</table>\n",
       "</div>"
      ],
      "text/plain": [
       "           Benign  Malignant\n",
       "Benign         87          3\n",
       "Malignant       4         43"
      ]
     },
     "execution_count": 44,
     "metadata": {},
     "output_type": "execute_result"
    }
   ],
   "source": [
    "# display the confusion matrix as a dataframe\n",
    "print(f'rows = actual, cols = predicted')\n",
    "make_confusion_matrix(y_test, X_test, svc_awesome)"
   ]
  },
  {
   "cell_type": "markdown",
   "metadata": {},
   "source": [
    "## Or... my way\n",
    "\n",
    "My motto is \n",
    "\n",
    ">**Data Scientists are curious but inherently lazy.**\n",
    "\n",
    "If you find confusion matrices... well confusing then there's probably a better way. The number of TP/FP/TN/FN are important, but the ratios and metrics derived from them are more important. Let's resort to just using those\n",
    "\n",
    "[Documentation in Sklearn](https://scikit-learn.org/stable/modules/generated/sklearn.metrics.classification_report.html)"
   ]
  },
  {
   "cell_type": "code",
   "execution_count": 45,
   "metadata": {
    "ExecuteTime": {
     "end_time": "2020-10-21T14:59:28.614323Z",
     "start_time": "2020-10-21T14:59:28.580572Z"
    }
   },
   "outputs": [
    {
     "name": "stdout",
     "output_type": "stream",
     "text": [
      "              precision    recall  f1-score   support\n",
      "\n",
      "      Benign       0.96      0.97      0.96        90\n",
      "   Malignant       0.93      0.91      0.92        47\n",
      "\n",
      "    accuracy                           0.95       137\n",
      "   macro avg       0.95      0.94      0.94       137\n",
      "weighted avg       0.95      0.95      0.95       137\n",
      "\n"
     ]
    }
   ],
   "source": [
    "# Using the classification_report package in sklearn.metrics gives the results we want.\n",
    "\n",
    "print(classification_report(y_test, y_pred_awesome))"
   ]
  },
  {
   "cell_type": "code",
   "execution_count": 47,
   "metadata": {
    "ExecuteTime": {
     "end_time": "2020-10-21T15:01:36.588106Z",
     "start_time": "2020-10-21T15:01:36.575128Z"
    }
   },
   "outputs": [
    {
     "data": {
      "text/html": [
       "<div>\n",
       "<style scoped>\n",
       "    .dataframe tbody tr th:only-of-type {\n",
       "        vertical-align: middle;\n",
       "    }\n",
       "\n",
       "    .dataframe tbody tr th {\n",
       "        vertical-align: top;\n",
       "    }\n",
       "\n",
       "    .dataframe thead th {\n",
       "        text-align: right;\n",
       "    }\n",
       "</style>\n",
       "<table border=\"1\" class=\"dataframe\">\n",
       "  <thead>\n",
       "    <tr style=\"text-align: right;\">\n",
       "      <th></th>\n",
       "      <th>Benign</th>\n",
       "      <th>Malignant</th>\n",
       "    </tr>\n",
       "  </thead>\n",
       "  <tbody>\n",
       "    <tr>\n",
       "      <th>Benign</th>\n",
       "      <td>87</td>\n",
       "      <td>3</td>\n",
       "    </tr>\n",
       "    <tr>\n",
       "      <th>Malignant</th>\n",
       "      <td>5</td>\n",
       "      <td>42</td>\n",
       "    </tr>\n",
       "  </tbody>\n",
       "</table>\n",
       "</div>"
      ],
      "text/plain": [
       "           Benign  Malignant\n",
       "Benign         87          3\n",
       "Malignant       5         42"
      ]
     },
     "execution_count": 47,
     "metadata": {},
     "output_type": "execute_result"
    }
   ],
   "source": [
    "# What is the confusion matrix for the good model\n",
    "make_confusion_matrix(y_test, X_test, svc_good)"
   ]
  },
  {
   "cell_type": "code",
   "execution_count": 46,
   "metadata": {
    "ExecuteTime": {
     "end_time": "2020-10-21T15:01:34.040737Z",
     "start_time": "2020-10-21T15:01:34.018151Z"
    }
   },
   "outputs": [
    {
     "data": {
      "text/html": [
       "<div>\n",
       "<style scoped>\n",
       "    .dataframe tbody tr th:only-of-type {\n",
       "        vertical-align: middle;\n",
       "    }\n",
       "\n",
       "    .dataframe tbody tr th {\n",
       "        vertical-align: top;\n",
       "    }\n",
       "\n",
       "    .dataframe thead th {\n",
       "        text-align: right;\n",
       "    }\n",
       "</style>\n",
       "<table border=\"1\" class=\"dataframe\">\n",
       "  <thead>\n",
       "    <tr style=\"text-align: right;\">\n",
       "      <th></th>\n",
       "      <th>Benign</th>\n",
       "      <th>Malignant</th>\n",
       "    </tr>\n",
       "  </thead>\n",
       "  <tbody>\n",
       "    <tr>\n",
       "      <th>Benign</th>\n",
       "      <td>59</td>\n",
       "      <td>31</td>\n",
       "    </tr>\n",
       "    <tr>\n",
       "      <th>Malignant</th>\n",
       "      <td>47</td>\n",
       "      <td>0</td>\n",
       "    </tr>\n",
       "  </tbody>\n",
       "</table>\n",
       "</div>"
      ],
      "text/plain": [
       "           Benign  Malignant\n",
       "Benign         59         31\n",
       "Malignant      47          0"
      ]
     },
     "execution_count": 46,
     "metadata": {},
     "output_type": "execute_result"
    }
   ],
   "source": [
    "# What is the confusion matrix for the bad model\n",
    "make_confusion_matrix(y_test, X_test, svc_bad)"
   ]
  },
  {
   "cell_type": "markdown",
   "metadata": {},
   "source": [
    "# Food for thought\n",
    "\n",
    "In the case of a model that predicts if a tumor is benign or malignant, which of the following should you pay the most attention to?\n",
    "\n",
    "1. True Positive Rate\n",
    "2. True Negative Rate\n",
    "3. False Positive Rate\n",
    "4. False Negative Rate"
   ]
  },
  {
   "cell_type": "code",
   "execution_count": null,
   "metadata": {},
   "outputs": [],
   "source": []
  }
 ],
 "metadata": {
  "kernelspec": {
   "display_name": "Python 3",
   "language": "python",
   "name": "python3"
  },
  "language_info": {
   "codemirror_mode": {
    "name": "ipython",
    "version": 3
   },
   "file_extension": ".py",
   "mimetype": "text/x-python",
   "name": "python",
   "nbconvert_exporter": "python",
   "pygments_lexer": "ipython3",
   "version": "3.7.3"
  },
  "toc": {
   "base_numbering": 1,
   "nav_menu": {},
   "number_sections": false,
   "sideBar": true,
   "skip_h1_title": false,
   "title_cell": "Table of Contents",
   "title_sidebar": "Contents",
   "toc_cell": false,
   "toc_position": {},
   "toc_section_display": true,
   "toc_window_display": false
  }
 },
 "nbformat": 4,
 "nbformat_minor": 2
}
